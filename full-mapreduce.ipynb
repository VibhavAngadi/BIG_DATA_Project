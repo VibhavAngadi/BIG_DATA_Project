{
  "cells": [
    {
      "cell_type": "markdown",
      "metadata": {
        "id": "wQcF3Tio0vJr"
      },
      "source": [
        "__Enable python3 kernel__"
      ]
    },
    {
      "cell_type": "markdown",
      "metadata": {
        "id": "8j-vwBmK0vJs"
      },
      "source": [
        "### Step 0: Setting up the environment"
      ]
    },
    {
      "cell_type": "markdown",
      "metadata": {
        "id": "DtugIt1w0vJs"
      },
      "source": [
        "Before starting the mapreduce study, we will download the necessary datasets"
      ]
    },
    {
      "cell_type": "code",
      "execution_count": null,
      "metadata": {
        "id": "l8OlZIs-0vJs",
        "outputId": "28a553b2-0c98-48c3-83d0-8ab509bc5b4d",
        "vscode": {
          "languageId": "java"
        }
      },
      "outputs": [
        {
          "name": "stdout",
          "output_type": "stream",
          "text": [
            "--2019-11-10 20:00:04--  https://raw.githubusercontent.com/legifrance/Les-codes-en-vigueur/master/forestier_mayotte.txt\n",
            "Resolving raw.githubusercontent.com (raw.githubusercontent.com)... 151.101.120.133\n",
            "Connecting to raw.githubusercontent.com (raw.githubusercontent.com)|151.101.120.133|:443... connected.\n",
            "HTTP request sent, awaiting response... 200 OK\n",
            "Length: 1381 (1.3K) [text/plain]\n",
            "Saving to: ‘data/forestier_mayotte.txt’\n",
            "\n",
            "data/forestier_mayo 100%[===================>]   1.35K  --.-KB/s    in 0s      \n",
            "\n",
            "2019-11-10 20:00:04 (6.30 MB/s) - ‘data/forestier_mayotte.txt’ saved [1381/1381]\n",
            "\n"
          ]
        }
      ],
      "source": [
        "\n",
        "!wget https://raw.githubusercontent.com/legifrance/Les-codes-en-vigueur/master/forestier_mayotte.txt -O data/forestier_mayotte.txt"
      ]
    },
    {
      "cell_type": "code",
      "execution_count": null,
      "metadata": {
        "id": "lOUfD96d0vJt",
        "outputId": "4e2286d9-4ca9-410e-e23c-f9fd62c13401",
        "vscode": {
          "languageId": "java"
        }
      },
      "outputs": [
        {
          "name": "stdout",
          "output_type": "stream",
          "text": [
            "--2019-11-10 20:00:06--  https://raw.githubusercontent.com/legifrance/Les-codes-en-vigueur/master/deontologie_police_nationale.txt\n",
            "Resolving raw.githubusercontent.com (raw.githubusercontent.com)... 151.101.120.133\n",
            "Connecting to raw.githubusercontent.com (raw.githubusercontent.com)|151.101.120.133|:443... connected.\n",
            "HTTP request sent, awaiting response... 200 OK\n",
            "Length: 7488 (7.3K) [text/plain]\n",
            "Saving to: ‘data/deontologie_police_nationale.txt’\n",
            "\n",
            "data/deontologie_po 100%[===================>]   7.31K  --.-KB/s    in 0s      \n",
            "\n",
            "2019-11-10 20:00:06 (17.6 MB/s) - ‘data/deontologie_police_nationale.txt’ saved [7488/7488]\n",
            "\n"
          ]
        }
      ],
      "source": [
        "# national police ethics\n",
        "!wget https://raw.githubusercontent.com/legifrance/Les-codes-en-vigueur/master/deontologie_police_nationale.txt -O data/deontologie_police_nationale.txt"
      ]
    },
    {
      "cell_type": "code",
      "execution_count": null,
      "metadata": {
        "id": "FKWX05vp0vJu",
        "outputId": "f7ed5f08-f91e-4d7c-877e-de86fb7322a3",
        "vscode": {
          "languageId": "java"
        }
      },
      "outputs": [
        {
          "name": "stdout",
          "output_type": "stream",
          "text": [
            "--2019-11-10 20:00:08--  https://raw.githubusercontent.com/legifrance/Les-codes-en-vigueur/master/domaine_public_fluvial.txt\n",
            "Resolving raw.githubusercontent.com (raw.githubusercontent.com)... 151.101.120.133\n",
            "Connecting to raw.githubusercontent.com (raw.githubusercontent.com)|151.101.120.133|:443... connected.\n",
            "HTTP request sent, awaiting response... 200 OK\n",
            "Length: 71173 (70K) [text/plain]\n",
            "Saving to: ‘data/domaine_public_fluvial.txt’\n",
            "\n",
            "data/domaine_public 100%[===================>]  69.50K  --.-KB/s    in 0.01s   \n",
            "\n",
            "2019-11-10 20:00:08 (5.60 MB/s) - ‘data/domaine_public_fluvial.txt’ saved [71173/71173]\n",
            "\n"
          ]
        }
      ],
      "source": [
        "# river public domain\n",
        "!wget https://raw.githubusercontent.com/legifrance/Les-codes-en-vigueur/master/domaine_public_fluvial.txt -O data/domaine_public_fluvial.txt"
      ]
    },
    {
      "cell_type": "code",
      "execution_count": null,
      "metadata": {
        "id": "bgMwK-6f0vJu",
        "outputId": "f769aa2c-3ec2-4f4d-bed0-5d0e06b9410b",
        "vscode": {
          "languageId": "java"
        }
      },
      "outputs": [
        {
          "name": "stdout",
          "output_type": "stream",
          "text": [
            "--2019-11-10 20:00:09--  https://raw.githubusercontent.com/legifrance/Les-codes-en-vigueur/master/sante_publique.txt\n",
            "Resolving raw.githubusercontent.com (raw.githubusercontent.com)... 151.101.120.133\n",
            "Connecting to raw.githubusercontent.com (raw.githubusercontent.com)|151.101.120.133|:443... connected.\n",
            "HTTP request sent, awaiting response... 200 OK\n",
            "Length: 18111630 (17M) [text/plain]\n",
            "Saving to: ‘data/sante_publique.txt’\n",
            "\n",
            "data/sante_publique 100%[===================>]  17.27M  18.9MB/s    in 0.9s    \n",
            "\n",
            "2019-11-10 20:00:11 (18.9 MB/s) - ‘data/sante_publique.txt’ saved [18111630/18111630]\n",
            "\n"
          ]
        }
      ],
      "source": [
        "# public health\n",
        "!wget https://raw.githubusercontent.com/legifrance/Les-codes-en-vigueur/master/sante_publique.txt -O data/sante_publique.txt"
      ]
    },
    {
      "cell_type": "code",
      "execution_count": null,
      "metadata": {
        "id": "W1tgqHlB0vJv",
        "outputId": "c6c6eb73-826b-4cda-ab5c-ebc5c4adca83",
        "vscode": {
          "languageId": "java"
        }
      },
      "outputs": [
        {
          "name": "stdout",
          "output_type": "stream",
          "text": [
            "--2019-11-10 20:00:11--  https://commoncrawl.s3.amazonaws.com/crawl-data/CC-MAIN-2017-13/segments/1490218189495.77/wet/CC-MAIN-20170322212949-00140-ip-10-233-31-227.ec2.internal.warc.wet.gz\n",
            "Resolving commoncrawl.s3.amazonaws.com (commoncrawl.s3.amazonaws.com)... 52.216.112.3\n",
            "Connecting to commoncrawl.s3.amazonaws.com (commoncrawl.s3.amazonaws.com)|52.216.112.3|:443... connected.\n",
            "HTTP request sent, awaiting response... 200 OK\n",
            "Length: 154369177 (147M) [application/octet-stream]\n",
            "Saving to: ‘data/big-file.gz’\n",
            "\n",
            "data/big-file.gz    100%[===================>] 147.22M  18.6MB/s    in 8.9s    \n",
            "\n",
            "2019-11-10 20:00:21 (16.6 MB/s) - ‘data/big-file.gz’ saved [154369177/154369177]\n",
            "\n"
          ]
        }
      ],
      "source": [
        "!wget https://commoncrawl.s3.amazonaws.com/crawl-data/CC-MAIN-2017-13/segments/1490218189495.77/wet/CC-MAIN-20170322212949-00140-ip-10-233-31-227.ec2.internal.warc.wet.gz\\\n",
        "    -O data/big-file.gz\n",
        "!cd data && gunzip big-file.gz"
      ]
    },
    {
      "cell_type": "markdown",
      "metadata": {
        "id": "bznnxqXd0vJv"
      },
      "source": [
        "__Enable java kernel__"
      ]
    },
    {
      "cell_type": "markdown",
      "metadata": {
        "id": "QWoop5zQ0vJw"
      },
      "source": [
        "### <font color=\"red\"></font> Step 1: Make a non-parallelized sequential program that counts the number of occurrences of words in a file."
      ]
    },
    {
      "cell_type": "code",
      "execution_count": null,
      "metadata": {
        "id": "w_Sev6TD0vJw",
        "vscode": {
          "languageId": "java"
        }
      },
      "outputs": [],
      "source": [
        "import java.io.IOException;\n",
        "import java.nio.file.Files;\n",
        "import java.nio.file.Paths;\n",
        "import java.util.ArrayList;\n",
        "import java.util.Collections;\n",
        "import java.util.Comparator;\n",
        "import java.util.HashMap;\n",
        "import java.util.LinkedHashMap;\n",
        "import java.util.Map;\n",
        "import java.util.Map.Entry;\n",
        "\n",
        "import static java.util.stream.Collectors.*;\n",
        "\n",
        "public class WordsCount{\n",
        "    \n",
        "    public static ArrayList<String> read_file(String filename){\n",
        "        ArrayList<String> lines = new ArrayList<>();\n",
        "        try {\n",
        "            lines = (ArrayList<String>) Files.readAllLines(Paths.get(filename));\n",
        "        } catch (IOException e) {\n",
        "            System.out.println(\"Problem when loading file\");\n",
        "            return null;\n",
        "        }\n",
        "        return lines;\n",
        "    }\n",
        "    \n",
        "    public static ArrayList<String[]> tokenize(ArrayList<String> lines){\n",
        "        ArrayList<String[]> tokenize_corpus = new ArrayList<>();\n",
        "        for (String line : lines) {\n",
        "            // removes punctuations\n",
        "            line = line.replaceAll(\"\\\\p{Punct}\",\"\").toLowerCase().trim();\n",
        "\n",
        "            tokenize_corpus.add(line.split(\" \"));\n",
        "        }\n",
        "        return tokenize_corpus;\n",
        "    }\n",
        "    \n",
        "    public static HashMap<String, Double> words_count(String filename){\n",
        "        // Function for the question 1\n",
        "        ArrayList<String> lines = WordsCount.read_file(filename);\n",
        "        ArrayList<String[]> lines_tokenized = WordsCount.tokenize(lines);\n",
        "        HashMap<String, Double> words_count = new HashMap<>();\n",
        "\n",
        "        for (String[] line_tokenized: lines_tokenized) {\n",
        "            for (String word:line_tokenized) {\n",
        "                if (word.isEmpty() != true){\n",
        "                    if (words_count.get(word) == null) {\n",
        "                            words_count.put(word, 1.0);\n",
        "                    } else {\n",
        "                            words_count.put(word, words_count.get(word)+1);\n",
        "                    }\n",
        "                }\n",
        "            }\n",
        "        }\n",
        "        return words_count;\n",
        "    }\n",
        "    \n",
        "    public static HashMap<String, Double> sorted_map_by_numeric_value(HashMap<String, Double> hash_map){\n",
        "        // Function for question 2\n",
        "        HashMap<String, Double> sorted_map = hash_map\n",
        "                                            .entrySet()\n",
        "                                            .stream()\n",
        "                                            .sorted(Collections.reverseOrder(Map.Entry.comparingByValue()))\n",
        "                                            .collect(toMap(Map.Entry::getKey, Map.Entry::getValue, (e1, e2) -> e2,\n",
        "                                                    LinkedHashMap::new));\n",
        "        return sorted_map;\n",
        "    }\n",
        "    \n",
        "    public static HashMap<String, Double> sort(HashMap<String, Double> hash_map){\n",
        "        // Function for question 3\n",
        "        HashMap<String, Double> sorted_map = hash_map\n",
        "                                                .entrySet()\n",
        "                                                .stream()\n",
        "                                                .sorted(new Comparator<Entry<String, Double>>() {\n",
        "                                                    @Override\n",
        "                                                    public int compare(Entry<String, Double> e1, Entry<String, Double> e2) {\n",
        "                                                        if (e1.getValue().equals(e2.getValue())) {\n",
        "                                                                return e1.getKey().compareTo(e2.getKey());\n",
        "                                                        } else {\n",
        "                                                            return e2.getValue().compareTo(e1.getValue());\n",
        "                                                        }\n",
        "                                                    }\n",
        "                                                }).collect(toMap(Map.Entry::getKey, Map.Entry::getValue, (e1, e2) -> e1,\n",
        "                                                        LinkedHashMap::new));\n",
        "        return sorted_map;\n",
        "    }\n",
        "    \n",
        "    public static void print_map(Map<String, Double> hash_map) {\n",
        "        for (Entry<String, Double> el:hash_map.entrySet()) {\n",
        "                System.out.println(el.getKey() + \" \" + el.getValue());\n",
        "        }\n",
        "    }\n",
        "    \n",
        "    public static void print_map(Map<String, Double> hash_map, Integer n) {\n",
        "        Integer count = 0;\n",
        "        for (Entry<String, Double> el:hash_map.entrySet()) {\n",
        "            if(count == n){\n",
        "                break;\n",
        "            } else {\n",
        "              System.out.println(el.getKey() + \" \" + el.getValue());\n",
        "                count++;\n",
        "            }\n",
        "        }\n",
        "    }\n",
        "    \n",
        "    public static void main(String[] args){\n",
        "        System.out.print(\"Hello Jupyter from java\");\n",
        "    }\n",
        "}"
      ]
    },
    {
      "cell_type": "markdown",
      "metadata": {
        "id": "waptQvcc0vJx"
      },
      "source": [
        "__1. First pure sequential counting__\n",
        "\n",
        "Implement a software in java that counts the number of occurrences of words in an input file in a non-parallelized way (single-threaded, single-threaded), using a single processor.<br>\n",
        "Which data structure is the most relevant to store the results: List, HashMap or HashSet or another? Why ?\n",
        "\n",
        " \n",
        "\n",
        "Test your program with an input file input.txt with content: \n",
        "```sh \n",
        "Deer Beer River \n",
        "Car Car River \n",
        "Deer Car Beer\n",
        "```\n",
        "Results:\n",
        "```sh \n",
        "Deer 2 \n",
        "Beer 2 \n",
        "River 2 \n",
        "Car 3\n",
        "```"
      ]
    },
    {
      "cell_type": "code",
      "execution_count": null,
      "metadata": {
        "id": "PItBjonL0vJx",
        "outputId": "1e799118-8ce3-4958-cdf9-a4b10dad906a",
        "vscode": {
          "languageId": "java"
        }
      },
      "outputs": [
        {
          "name": "stdout",
          "output_type": "stream",
          "text": [
            "deer 2.0\n",
            "car 3.0\n",
            "river 2.0\n",
            "beer 2.0\n"
          ]
        }
      ],
      "source": [
        "WordsCount.print_map(WordsCount.words_count(\"data/input.txt\"));"
      ]
    },
    {
      "cell_type": "markdown",
      "metadata": {
        "id": "MKHVL4KI0vJx"
      },
      "source": [
        "__2.First pure sequential sort__\n",
        "\n",
        "Modify your program to sort by number of occurrences:\n",
        "Results:\n",
        "```sh\n",
        "Car 3 \n",
        "Deer 2 \n",
        "Beer 2 \n",
        "River 2\n",
        "```"
      ]
    },
    {
      "cell_type": "code",
      "execution_count": null,
      "metadata": {
        "id": "2Hm0e7c30vJx",
        "outputId": "ed15e318-5db1-4347-9302-39cfe7da79fe",
        "vscode": {
          "languageId": "java"
        }
      },
      "outputs": [
        {
          "name": "stdout",
          "output_type": "stream",
          "text": [
            "car 3.0\n",
            "deer 2.0\n",
            "river 2.0\n",
            "beer 2.0\n"
          ]
        }
      ],
      "source": [
        "HashMap<String, Double> words_count = WordsCount.words_count(\"data/input.txt\");\n",
        "WordsCount.print_map(WordsCount.sorted_map_by_numeric_value(words_count));"
      ]
    },
    {
      "cell_type": "markdown",
      "metadata": {
        "id": "1NRXjj0h0vJy"
      },
      "source": [
        "__3.Second alphabetical sort in pure sequential__\n",
        "\n",
        "Modify the program to sort alphabetically for words with equal number of occurrences: \n",
        "\n",
        "Result:\n",
        "```sh\n",
        "Car 3 \n",
        "Beer 2 \n",
        "Deer 2\n",
        "River 2 \n",
        "```"
      ]
    },
    {
      "cell_type": "code",
      "execution_count": null,
      "metadata": {
        "id": "JlrDCN_w0vJy",
        "outputId": "831dc63a-bf4b-479d-a50a-66081b6c20df",
        "vscode": {
          "languageId": "java"
        }
      },
      "outputs": [
        {
          "name": "stdout",
          "output_type": "stream",
          "text": [
            "car 3.0\n",
            "beer 2.0\n",
            "deer 2.0\n",
            "river 2.0\n"
          ]
        }
      ],
      "source": [
        "HashMap<String, Double> words_count = WordsCount.words_count(\"data/input.txt\");\n",
        "WordsCount.print_map(WordsCount.sort(words_count));"
      ]
    },
    {
      "cell_type": "markdown",
      "metadata": {
        "id": "bKn6LT0l0vJy"
      },
      "source": [
        "__4. Test of the sequential program on the forest code of Mayotte__\n",
        "\n",
        "Then test your program with the Mayotte forestry code available on github forêt_mayotte.txt:\n",
        "https://github.com/legifrance/Les-codes-en-vigueur \n",
        "\n",
        "Did your program work the first time?\n",
        "\n",
        "Check by opening the text file that it contains text and not HTML code.\n",
        "\n",
        "Do not waste time correcting any errors due to special characters or suspicious or illegible words (anyway later there will be Chinese in the text)."
      ]
    },
    {
      "cell_type": "markdown",
      "metadata": {
        "id": "bHaRpnhg0vJy"
      },
      "source": [
        "The program worked the first time, however special characters and punctuation skewed the results. As requested in the statement, I didn't spend much time on data cleaning. I only added a special Java regex to remove punctuation."
      ]
    },
    {
      "cell_type": "code",
      "execution_count": null,
      "metadata": {
        "id": "6uuP_clr0vJy",
        "outputId": "8cbc74b8-aaa9-4503-bddb-6ffb3e12a21c",
        "vscode": {
          "languageId": "java"
        }
      },
      "outputs": [
        {
          "name": "stdout",
          "output_type": "stream",
          "text": [
            "de 12.0\n",
            "biens 8.0\n",
            "ou 8.0\n",
            "code 6.0\n",
            "forestier 6.0\n",
            "des 5.0\n",
            "partie 5.0\n",
            "agroforestiers 4.0\n",
            "aux 4.0\n",
            "communes 4.0\n",
            "dispositions 4.0\n",
            "forestiers 4.0\n",
            "gestion 4.0\n",
            "le 4.0\n",
            "les 4.0\n"
          ]
        }
      ],
      "source": [
        "HashMap<String, Double> words_count = WordsCount.words_count(\"data/forestier_mayotte.txt\");\n",
        "WordsCount.print_map(WordsCount.sort(words_count), 15);"
      ]
    },
    {
      "cell_type": "markdown",
      "metadata": {
        "id": "tET_GVis0vJy"
      },
      "source": [
        "__5. The 50 words of the code of ethics of the national police__\n",
        "\n",
        "Test your program with the national police code of ethics available on github deontologie_police_nationale.txt: https://github.com/legifrance/Les-codes-en-vigueur\n",
        "\n",
        "Also, don't waste time filtering out special characters or other weird words. Why ? Because we will then work on texts in Chinese, Japanese, Arabic and other languages. If you implement a filter step here in French it will be useless afterwards. What are the first 5 words (that look like words) in the top 50 of the sorted result list? Keep the answer to include in the report."
      ]
    },
    {
      "cell_type": "markdown",
      "metadata": {
        "id": "DYsmdxP90vJz"
      },
      "source": [
        "The first 5 words in the top 50 of the sorted list are \"de, la, police, et, des\""
      ]
    },
    {
      "cell_type": "code",
      "execution_count": null,
      "metadata": {
        "id": "TcZMczVr0vJz",
        "outputId": "35f2a4b4-6475-404d-8552-e0f3e5aeaa4d",
        "vscode": {
          "languageId": "java"
        }
      },
      "outputs": [
        {
          "name": "stdout",
          "output_type": "stream",
          "text": [
            "de 98.0\n",
            "la 51.0\n",
            "police 38.0\n",
            "et 36.0\n",
            "des 33.0\n",
            "le 27.0\n",
            "à 25.0\n",
            "les 24.0\n",
            "article 20.0\n",
            "nationale 20.0\n",
            "↬ 19.0\n",
            "en 13.0\n",
            "est 13.0\n",
            "titre 13.0\n",
            "ou 12.0\n",
            "qui 11.0\n",
            "fonctionnaires 10.0\n",
            "lautorité 10.0\n",
            "aux 9.0\n",
            "code 9.0\n",
            "fonctionnaire 9.0\n",
            "par 9.0\n",
            "commandement 8.0\n",
            "du 8.0\n",
            "leur 8.0\n",
            "ses 8.0\n",
            "au 7.0\n",
            "devoirs 7.0\n",
            "déontologie 7.0\n",
            "il 7.0\n",
            "ne 7.0\n",
            "a 6.0\n",
            "dans 6.0\n",
            "cas 5.0\n",
            "faire 5.0\n",
            "lordre 5.0\n",
            "ordres 5.0\n",
            "pour 5.0\n",
            "sa 5.0\n",
            "se 5.0\n",
            "si 5.0\n",
            "sont 5.0\n",
            "tout 5.0\n",
            "doit 4.0\n",
            "droits 4.0\n",
            "elle 4.0\n",
            "exécution 4.0\n",
            "missions 4.0\n",
            "pas 4.0\n",
            "personne 4.0\n"
          ]
        }
      ],
      "source": [
        "HashMap<String, Double> words_count = WordsCount.words_count(\"data/deontologie_police_nationale.txt\");\n",
        "WordsCount.print_map(WordsCount.sort(words_count), 50);"
      ]
    },
    {
      "cell_type": "markdown",
      "metadata": {
        "id": "RMg47mS-0vJz"
      },
      "source": [
        "__6. The 50 words of the fluvial public domain code__\n",
        "\n",
        "Test your program with public domain river code domain_public_fluvial.txt.\n",
        "\n",
        "What are the first 5 words (that look like words) in the top 50 of the sorted result list? Keep the answer to include in the report."
      ]
    },
    {
      "cell_type": "markdown",
      "metadata": {
        "id": "Ay4cT2lD0vJz"
      },
      "source": [
        "The first 5 words in the top 50 of the sorted list are \"de, le, la, du, et\""
      ]
    },
    {
      "cell_type": "code",
      "execution_count": null,
      "metadata": {
        "id": "koa5XPHr0vJz",
        "outputId": "c0430cac-fc7b-4191-9dae-f220f495c14e",
        "vscode": {
          "languageId": "java"
        }
      },
      "outputs": [
        {
          "name": "stdout",
          "output_type": "stream",
          "text": [
            "de 630.0\n",
            "le 429.0\n",
            "la 370.0\n",
            "du 347.0\n",
            "et 295.0\n",
            "les 240.0\n",
            "des 222.0\n",
            "à 209.0\n",
            "est 173.0\n",
            "dans 150.0\n",
            "par 124.0\n",
            "sur 123.0\n",
            "ou 120.0\n",
            "en 109.0\n",
            "article 107.0\n",
            "bateau 106.0\n",
            "↬ 103.0\n",
            "au 97.0\n",
            "un 79.0\n",
            "pour 73.0\n",
            "tribunal 72.0\n",
            "lieu 69.0\n",
            "larticle 68.0\n",
            "aux 66.0\n",
            "il 66.0\n",
            "dimmatriculation 64.0\n",
            "qui 54.0\n",
            "bureau 50.0\n",
            "code 48.0\n",
            "titre 48.0\n",
            "navigation 46.0\n",
            "que 46.0\n",
            "dun 44.0\n",
            "bateaux 43.0\n",
            "où 43.0\n",
            "son 43.0\n",
            "domicile 42.0\n",
            "se 41.0\n",
            "créanciers 40.0\n",
            "juge 38.0\n",
            "a 37.0\n",
            "propriétaire 37.0\n",
            "commerce 36.0\n",
            "saisie 36.0\n",
            "intérieure 35.0\n",
            "délai 34.0\n",
            "nom 34.0\n",
            "prix 34.0\n",
            "sil 33.0\n",
            "cas 32.0\n"
          ]
        }
      ],
      "source": [
        "HashMap<String, Double> words_count = WordsCount.words_count(\"data/domaine_public_fluvial.txt\");\n",
        "WordsCount.print_map(WordsCount.sort(words_count), 50);"
      ]
    },
    {
      "cell_type": "markdown",
      "metadata": {
        "id": "8wszeHEa0vJz"
      },
      "source": [
        "__7. The 50 words of the public health code__\n",
        "Test your program with the public health code sante_publique.txt.\n",
        "\n",
        "What are the first 5 words (that look like words) in the top 50 of the sorted result list? Keep the answer to include in the report."
      ]
    },
    {
      "cell_type": "markdown",
      "metadata": {
        "id": "9r3GwTfP0vJz"
      },
      "source": [
        "The first 5 words in the top 50 of the sorted list are \"de, le, des, à, et\""
      ]
    },
    {
      "cell_type": "code",
      "execution_count": null,
      "metadata": {
        "id": "ldTMN9pi0vJz",
        "outputId": "e9df9008-f432-4592-c785-55e630250138",
        "vscode": {
          "languageId": "java"
        }
      },
      "outputs": [
        {
          "name": "stdout",
          "output_type": "stream",
          "text": [
            "de 190889.0\n",
            "la 82599.0\n",
            "des 67813.0\n",
            "à 65546.0\n",
            "et 62702.0\n",
            "les 62474.0\n",
            "le 56800.0\n",
            "du 48514.0\n",
            "ou 40848.0\n",
            "en 31742.0\n",
            "par 30718.0\n",
            "au 25730.0\n",
            "dans 25104.0\n",
            "article 23844.0\n",
            "larticle 22998.0\n",
            "↬ 21810.0\n",
            "est 21792.0\n",
            "un 20536.0\n",
            "santé 20197.0\n",
            "l 18762.0\n",
            "pour 16876.0\n",
            "aux 16144.0\n",
            "sont 15048.0\n",
            "une 13868.0\n",
            "sur 12624.0\n",
            "que 11348.0\n",
            "r 11236.0\n",
            "qui 10150.0\n",
            "dun 9672.0\n",
            "peut 8608.0\n",
            "directeur 8604.0\n",
            "lagence 8284.0\n",
            "conditions 8094.0\n",
            "être 8070.0\n",
            "cas 8040.0\n",
            "ne 7714.0\n",
            "a 7622.0\n",
            "conseil 7560.0\n",
            "dune 7374.0\n",
            "son 7298.0\n",
            "général 6912.0\n",
            "il 6666.0\n",
            "ce 6352.0\n",
            "ces 6188.0\n",
            "1° 6114.0\n",
            "dispositions 5926.0\n",
            "2° 5872.0\n",
            "leur 5766.0\n",
            "pas 5702.0\n",
            "sécurité 5282.0\n"
          ]
        }
      ],
      "source": [
        "HashMap<String, Double> words_count = WordsCount.words_count(\"data/sante_publique.txt\");\n",
        "WordsCount.print_map(WordsCount.sort(words_count), 50);"
      ]
    },
    {
      "cell_type": "markdown",
      "metadata": {
        "id": "Y3ekAJf40vJz"
      },
      "source": [
        "__8. Sequential timing__\n",
        "\n",
        "Time your program to the public health code."
      ]
    },
    {
      "cell_type": "code",
      "execution_count": null,
      "metadata": {
        "id": "6RvCiiok0vJ0",
        "outputId": "2e8572d5-3025-4ce8-a647-8737d7e7ce4c",
        "vscode": {
          "languageId": "java"
        }
      },
      "outputs": [
        {
          "name": "stdout",
          "output_type": "stream",
          "text": [
            "Durée du word count: 0.961000 s"
          ]
        }
      ],
      "source": [
        "double start_time = System.currentTimeMillis();\n",
        "HashMap<String, Double> words_count = WordsCount.words_count(\"data/sante_publique.txt\");\n",
        "double end_time = System.currentTimeMillis();\n",
        "double total_time = end_time - start_time;\n",
        "System.out.print(String.format(\"Durée du word count: %f s\", total_time/1000))"
      ]
    },
    {
      "cell_type": "markdown",
      "metadata": {
        "id": "jAU7f9ZB0vJ0"
      },
      "source": [
        "__9. Work on large files__\n",
        "\n",
        "Test your program on a real case: an extract of all the internet pages transformed into plain text format (WET format). All pages on the internet in text format are available at [commoncrawl](http://commoncrawl.org/the-data/get-started/): every month, around 3 billion web pages or 250 TB of data are stored . This data is available in slices of less than approximately 1GB, you will work on a slice of 380MB.\n",
        "I chose a particular slice to have a comparison between us (you can test on other slices if you want). Download this installment here:\n",
        "[large file](https://commoncrawl.s3.amazonaws.com/crawl-data/CC-MAIN-2017-13/segments/1490218189495.77/wet/CC-MAIN-20170322212949-00140-ip-10-233-31 -227.ec2.internal.warc.wet.gz)\n",
        "Unzip and get file CC-MAIN-20170322212949-00140-ip-10-233-31-227.ec2.internal.warc.wet\n",
        "This is a slice containing a set of websites in plain text (WET) format.\n",
        "Test your program with this file as input. Time it."
      ]
    },
    {
      "cell_type": "code",
      "execution_count": null,
      "metadata": {
        "id": "gMbHSH0p0vJ0",
        "outputId": "1693149b-67ac-4f9c-aa9a-fb1eb8713202",
        "vscode": {
          "languageId": "java"
        }
      },
      "outputs": [
        {
          "name": "stdout",
          "output_type": "stream",
          "text": [
            "Durée du word count: 61.482000 s"
          ]
        }
      ],
      "source": [
        "double start_time = System.currentTimeMillis();\n",
        "HashMap<String, Double> words_count = WordsCount.words_count(\"data/big-file\");\n",
        "double end_time = System.currentTimeMillis();\n",
        "double total_time = end_time - start_time;\n",
        "System.out.print(String.format(\"Durée du word count: %f s\", total_time/1000))"
      ]
    },
    {
      "cell_type": "markdown",
      "metadata": {
        "id": "39W3BN8b0vJ0"
      },
      "source": [
        "__Enable the phython3 kernel__\n",
        "\n"
      ]
    },
    {
      "cell_type": "markdown",
      "metadata": {
        "id": "dutBOYdl0vJ0"
      },
      "source": [
        "### <font color=\"red\">Step 2</font> : Work with multiple computers in a network."
      ]
    },
    {
      "cell_type": "markdown",
      "metadata": {
        "id": "ND-U4BOu0vJ0"
      },
      "source": [
        "__1. Short name, long name__\n",
        "\n",
        "What is the SHORT name of your computer (the simple name without the domain)? What is the LONG name of your computer (the name with the domain)? How to find them on the command line? On the school computers, is it possible to obtain these names other than on the command line? Add the responses to your report."
      ]
    },
    {
      "cell_type": "markdown",
      "metadata": {
        "id": "pOmGOfYt0vJ0"
      },
      "source": [
        "In current docker architecture, there is no difference between short name and long name of machines"
      ]
    },
    {
      "cell_type": "code",
      "execution_count": null,
      "metadata": {
        "id": "NjOl3a7m0vJ0",
        "outputId": "8531c790-5451-4444-c5df-8d0f1ec89257",
        "vscode": {
          "languageId": "java"
        }
      },
      "outputs": [
        {
          "name": "stdout",
          "output_type": "stream",
          "text": [
            "Nom long: master\n",
            "Nom court: master\n"
          ]
        }
      ],
      "source": [
        "!echo Nom long: `hostname -f`\n",
        "!echo Nom court: `hostname`"
      ]
    },
    {
      "cell_type": "markdown",
      "metadata": {
        "id": "ytcl69ur0vJ0"
      },
      "source": [
        "__2. IP adress__\n",
        "\n",
        "How to know the (several) IP addresses of your computer from the command line? Otherwise (through a website for example)? Add the responses to your report."
      ]
    },
    {
      "cell_type": "code",
      "execution_count": null,
      "metadata": {
        "id": "AVgBZqWs0vJ0",
        "outputId": "17280e71-4849-45a9-bee1-d555189b00af",
        "vscode": {
          "languageId": "java"
        }
      },
      "outputs": [
        {
          "name": "stdout",
          "output_type": "stream",
          "text": [
            "Adresse ip : 172.21.0.5\n"
          ]
        }
      ],
      "source": [
        "!echo Adresse ip : `hostname -I`"
      ]
    },
    {
      "cell_type": "markdown",
      "metadata": {
        "id": "IjncTWhG0vJ1"
      },
      "source": [
        "__3. From name to IP__\n",
        "\n",
        "How to get IP addresses from the command line from a computer name? Add the responses to your report."
      ]
    },
    {
      "cell_type": "code",
      "execution_count": null,
      "metadata": {
        "id": "R2PCn7ju0vJ1",
        "outputId": "b08ca891-6751-43b5-cb55-9814cd56eace",
        "vscode": {
          "languageId": "java"
        }
      },
      "outputs": [
        {
          "name": "stdout",
          "output_type": "stream",
          "text": [
            "worker-1 has address 172.21.0.3\n"
          ]
        }
      ],
      "source": [
        "!host worker-1"
      ]
    },
    {
      "cell_type": "markdown",
      "metadata": {
        "id": "T2ebshQD0vJ1"
      },
      "source": [
        "__4. From IP to name__\n",
        "\n",
        "How, from an IP address, to obtain the associated names on the command line? Add the responses to your report."
      ]
    },
    {
      "cell_type": "code",
      "execution_count": null,
      "metadata": {
        "id": "jVopl_JS0vJ1",
        "outputId": "c9c4bd10-0ea9-4227-b609-0ac0ba518c76",
        "vscode": {
          "languageId": "java"
        }
      },
      "outputs": [
        {
          "name": "stdout",
          "output_type": "stream",
          "text": [
            "Host 4.0.19.172.in-addr.arpa. not found: 3(NXDOMAIN)\n"
          ]
        }
      ],
      "source": [
        "!host 172.19.0.4"
      ]
    },
    {
      "cell_type": "markdown",
      "metadata": {
        "id": "sQGqiKzx0vJ1"
      },
      "source": [
        "__5. Ping pong inside!__\n",
        "\n",
        "Test communication with other computers (not yours) from the school network using the ping command (to stop the ping press CTRL + C). followed by the short name, the long name, the IP. Do all three methods work? Add the responses to your report."
      ]
    },
    {
      "cell_type": "code",
      "execution_count": null,
      "metadata": {
        "id": "LlwaHyh-0vJ1",
        "outputId": "7cce6108-053a-48f9-923a-78ab90553b13",
        "vscode": {
          "languageId": "java"
        }
      },
      "outputs": [
        {
          "name": "stdout",
          "output_type": "stream",
          "text": [
            "PING worker-1 (172.21.0.3) 56(84) bytes of data.\n",
            "64 bytes from worker-1.docker_default (172.21.0.3): icmp_seq=1 ttl=64 time=4.23 ms\n",
            "64 bytes from worker-1.docker_default (172.21.0.3): icmp_seq=2 ttl=64 time=0.069 ms\n",
            "64 bytes from worker-1.docker_default (172.21.0.3): icmp_seq=3 ttl=64 time=0.098 ms\n",
            "64 bytes from worker-1.docker_default (172.21.0.3): icmp_seq=4 ttl=64 time=0.126 ms\n",
            "64 bytes from worker-1.docker_default (172.21.0.3): icmp_seq=5 ttl=64 time=0.105 ms\n",
            "64 bytes from worker-1.docker_default (172.21.0.3): icmp_seq=6 ttl=64 time=0.067 ms\n",
            "64 bytes from worker-1.docker_default (172.21.0.3): icmp_seq=7 ttl=64 time=0.055 ms\n",
            "64 bytes from worker-1.docker_default (172.21.0.3): icmp_seq=8 ttl=64 time=0.060 ms\n",
            "^C\n",
            "\n",
            "--- worker-1 ping statistics ---\n",
            "8 packets transmitted, 8 received, 0% packet loss, time 7275ms\n",
            "rtt min/avg/max/mdev = 0.055/0.601/4.233/1.373 ms\n"
          ]
        }
      ],
      "source": [
        "!ping worker-1"
      ]
    },
    {
      "cell_type": "code",
      "execution_count": null,
      "metadata": {
        "id": "j-gsjQkN0vJ1",
        "outputId": "eb344d85-5c09-4df5-d191-dde4fc03fafa",
        "vscode": {
          "languageId": "java"
        }
      },
      "outputs": [
        {
          "name": "stdout",
          "output_type": "stream",
          "text": [
            "PING 172.19.0.4 (172.19.0.4) 56(84) bytes of data.\n",
            "^C\n",
            "\n",
            "--- 172.19.0.4 ping statistics ---\n",
            "3 packets transmitted, 0 received, 100% packet loss, time 2118ms\n",
            "\n"
          ]
        }
      ],
      "source": [
        "!ping 172.19.0.4"
      ]
    },
    {
      "cell_type": "markdown",
      "metadata": {
        "id": "hkMNKXUG0vJ1"
      },
      "source": [
        "All methods work"
      ]
    },
    {
      "cell_type": "markdown",
      "metadata": {
        "id": "90a6D1Vt0vJ1"
      },
      "source": [
        "__7. Calculate in command line on local computer\n",
        "\n",
        "How to launch a command line calculation on your computer (for example 2 + 3)? Among the multiple possible answers, which ones allow you to launch the calculation and obtain the result by pressing the <Enter> key only once? Add the responses to your report."
      ]
    },
    {
      "cell_type": "code",
      "execution_count": null,
      "metadata": {
        "id": "WWoYAc-o0vJ1",
        "outputId": "560e4374-9d8b-44a0-802d-ffc0f13cdd24",
        "vscode": {
          "languageId": "java"
        }
      },
      "outputs": [
        {
          "name": "stdout",
          "output_type": "stream",
          "text": [
            "8\n"
          ]
        }
      ],
      "source": [
        "!echo $((3+5)) "
      ]
    },
    {
      "cell_type": "markdown",
      "metadata": {
        "id": "xmCxXTg20vJ1"
      },
      "source": [
        "__8. Calculate from the command line on a remote computer\n",
        "\n",
        "How do I run a calculation (e.g. 2+3) from the command line on another computer (remotely)? You will certainly need to authenticate yourself with a password. How to get the result of the calculation immediately after typing your password? Add the responses to your report.\n",
        "\n",
        "Passwordless ssh communication between docker containers is already configured."
      ]
    },
    {
      "cell_type": "code",
      "execution_count": null,
      "metadata": {
        "id": "NAiLwic70vJ1",
        "outputId": "32e630ec-52cf-4f7c-937b-6e0a50726847",
        "vscode": {
          "languageId": "java"
        }
      },
      "outputs": [
        {
          "name": "stdout",
          "output_type": "stream",
          "text": [
            "Warning: Permanently added 'worker-1,172.21.0.3' (ECDSA) to the list of known hosts.\n",
            "bash: warning: setlocale: LC_ALL: cannot change locale (en_US.UTF-8)\n",
            "8\n"
          ]
        }
      ],
      "source": [
        "!ssh root@worker-1 echo $((3+5))"
      ]
    },
    {
      "cell_type": "markdown",
      "metadata": {
        "id": "-E4jKfeg0vJ2"
      },
      "source": [
        "### <font color=\"red\">Step 3</font> : Work with local files or on an NFS server."
      ]
    },
    {
      "cell_type": "markdown",
      "metadata": {
        "id": "jgwrTLUx0vJ2"
      },
      "source": [
        "__1. Absolute path__\n",
        "\n",
        "What is the absolute path of your personal directory, your home directory? (“cd” then “pwd” commands)"
      ]
    },
    {
      "cell_type": "code",
      "execution_count": null,
      "metadata": {
        "id": "BUytI6DF0vJ2",
        "outputId": "6977231a-6fe4-4d0f-f95d-c20aae6703ca",
        "vscode": {
          "languageId": "java"
        }
      },
      "outputs": [
        {
          "name": "stdout",
          "output_type": "stream",
          "text": [
            "/home/jovyan\n"
          ]
        }
      ],
      "source": [
        "!cd && pwd"
      ]
    },
    {
      "cell_type": "markdown",
      "metadata": {
        "id": "a5AMccem0vJ2"
      },
      "source": [
        "__2. A file in the home directory\n",
        "\n",
        "Create a file fperso.txt containing the text “hello” in your home directory (on a school computer).\n",
        "Check the contents of the file with this command exactly:\n",
        "```sh\n",
        "cat ~/fperso.txt\n",
        "```"
      ]
    },
    {
      "cell_type": "code",
      "execution_count": null,
      "metadata": {
        "id": "7qnpPIW00vJ2",
        "outputId": "311d3e5c-0f86-4100-c61e-193d3dac8705",
        "vscode": {
          "languageId": "java"
        }
      },
      "outputs": [
        {
          "name": "stdout",
          "output_type": "stream",
          "text": [
            "bonjour\n"
          ]
        }
      ],
      "source": [
        "!echo bonjour > $HOME/fperso.txt && cat $HOME/fperso.txt"
      ]
    },
    {
      "cell_type": "markdown",
      "metadata": {
        "id": "Giyl-xqY0vJ2"
      },
      "source": [
        "__3. Where is the file located in the home directory?\n",
        "\n",
        "Is this file on the hard drive of the computer or somewhere else? How can I find out where this file is physically stored, using which command?"
      ]
    },
    {
      "cell_type": "code",
      "execution_count": null,
      "metadata": {
        "id": "8kSAl1qK0vJ2",
        "outputId": "e1f873c3-2310-4676-9e8f-753767daa2ef",
        "vscode": {
          "languageId": "java"
        }
      },
      "outputs": [
        {
          "name": "stdout",
          "output_type": "stream",
          "text": [
            "Filesystem     1K-blocks     Used Available Use% Mounted on\n",
            "overlay        263174212 25483060 224252996  11% /\n"
          ]
        }
      ],
      "source": [
        "!df -k $HOME/fperso.txt"
      ]
    },
    {
      "cell_type": "markdown",
      "metadata": {
        "id": "BJpG_wXp0vJ2"
      },
      "source": [
        "__4. A folder and a file in the temporary directory\n",
        "\n",
        "Create a folder `/tmp/<your username>` replacing <your username> (do not put the characters < and > ).\n",
        "Create an ftemp.txt file in the `/tmp/<your username>` directory.\n",
        "Check the contents of the file with this command exactly:\n",
        "```sh\n",
        "cat /tmp/<your username>/ftemp.txt\n",
        "```\n",
        "Is this folder and file on the computer's hard drive or somewhere else? How do I know where these items are physically stored, using which command?"
      ]
    },
    {
      "cell_type": "code",
      "execution_count": null,
      "metadata": {
        "id": "HRtCwb6i0vJ2",
        "outputId": "5133e796-14a4-4962-8a21-66c1bf87b31f",
        "vscode": {
          "languageId": "java"
        }
      },
      "outputs": [
        {
          "name": "stdout",
          "output_type": "stream",
          "text": [
            "bonjour\n",
            "Filesystem     1K-blocks     Used Available Use% Mounted on\n",
            "overlay        263174212 25483068 224252988  11% /\n"
          ]
        }
      ],
      "source": [
        "!mkdir /tmp/$NB_USER && echo bonjour > /tmp/$NB_USER/ftemp.txt\n",
        "!cat /tmp/$NB_USER/ftemp.txt\n",
        "\n",
        "# To know where the file is stored\n",
        "!df -k /tmp/$NB_USER/ftemp.txt"
      ]
    },
    {
      "cell_type": "markdown",
      "metadata": {
        "id": "7l_3HcAb0vJ2"
      },
      "source": [
        "__ File copy between remote computer __"
      ]
    },
    {
      "cell_type": "code",
      "execution_count": null,
      "metadata": {
        "id": "vTjGgJNq0vJ3",
        "outputId": "b57482ed-f71d-4644-93d5-9b82dd0a42a6",
        "vscode": {
          "languageId": "java"
        }
      },
      "outputs": [
        {
          "name": "stdout",
          "output_type": "stream",
          "text": [
            "Warning: Permanently added 'worker-1,172.21.0.3' (ECDSA) to the list of known hosts.\n",
            "bash: warning: setlocale: LC_ALL: cannot change locale (en_US.UTF-8)\n",
            "Warning: Permanently added 'worker-1,172.21.0.3' (ECDSA) to the list of known hosts.\n",
            "bash: warning: setlocale: LC_ALL: cannot change locale (en_US.UTF-8)\n",
            "ftemp.txt                                     100%    8     6.6KB/s   00:00    \n",
            "Warning: Permanently added 'worker-1,172.21.0.3' (ECDSA) to the list of known hosts.\n",
            "bash: warning: setlocale: LC_ALL: cannot change locale (en_US.UTF-8)\n",
            "ftemp.txt\n"
          ]
        }
      ],
      "source": [
        "!ssh root@worker-1 mkdir /tmp/$NB_USER\n",
        "!scp /tmp/$NB_USER/ftemp.txt root@worker-1:/tmp/$NB_USER\n",
        "!ssh root@worker-1 ls /tmp/$NB_USER"
      ]
    },
    {
      "cell_type": "markdown",
      "metadata": {
        "id": "AcA5KGSO0vJ3"
      },
      "source": [
        "### <font color=\"red\">Step 4</font> : Launch java programs remotely manually."
      ]
    },
    {
      "cell_type": "markdown",
      "metadata": {
        "id": "RG-p_0M90vJ3"
      },
      "source": [
        "__Enable java kernel__"
      ]
    },
    {
      "cell_type": "markdown",
      "metadata": {
        "id": "EZ6qXBlz0vJ3"
      },
      "source": [
        "__A first SLAVE program under Eclipse__\n",
        "\n",
        "Make a Java program named “SLAVE” which calculates 3+5, displays the result, under Eclipse (To launch Eclipse: Menu applications> development), launch this program in Eclipse (green arrow “run”)"
      ]
    },
    {
      "cell_type": "code",
      "execution_count": null,
      "metadata": {
        "id": "YzAfiuYH0vJ3",
        "vscode": {
          "languageId": "java"
        }
      },
      "outputs": [],
      "source": [
        "public class Slave {\n",
        "\n",
        "    public static void main() throws InterruptedException {\n",
        "        System.out.println(3 + 5);\n",
        "    }\n",
        "}"
      ]
    },
    {
      "cell_type": "code",
      "execution_count": null,
      "metadata": {
        "id": "lDAMBXvh0vJ3",
        "outputId": "297b4000-b4a3-4d0c-e4fd-58cab5948212",
        "vscode": {
          "languageId": "java"
        }
      },
      "outputs": [
        {
          "name": "stdout",
          "output_type": "stream",
          "text": [
            "8\n"
          ]
        }
      ],
      "source": [
        "new Slave().main()"
      ]
    },
    {
      "cell_type": "markdown",
      "metadata": {
        "id": "_yzuw-Sd0vJ3"
      },
      "source": [
        "__1. Export to JAR__\n",
        "\n",
        "Export the Java program in executable slave.jar (Java ARchive called Runnable) under Eclipse. Be careful to check that the JAR is of the “Runnable”/”executable” type."
      ]
    },
    {
      "cell_type": "markdown",
      "metadata": {
        "id": "KOIaOSPv0vJ3"
      },
      "source": [
        "Le fichier `slave.jar` se trouve dans dossier `hadoop-from-scratch/jar`"
      ]
    },
    {
      "cell_type": "markdown",
      "metadata": {
        "id": "z3Ujs6Tz0vJ3"
      },
      "source": [
        "__2. Run on local hard disk\n",
        "\n",
        "Create the directory `/tmp/<your username>/`\n",
        "Copy slave.jar executable to `/tmp/<your username>/` directory\n",
        "Test and Run the slave.jar from the command line on your local computer."
      ]
    },
    {
      "cell_type": "markdown",
      "metadata": {
        "id": "5Ia_GfS80vJ3"
      },
      "source": [
        "__Enable python3 kernel__"
      ]
    },
    {
      "cell_type": "code",
      "execution_count": null,
      "metadata": {
        "id": "aWEAk_3C0vJ3",
        "outputId": "70fd5fd3-b0bf-4bac-b5d4-babcf0541ebc",
        "vscode": {
          "languageId": "java"
        }
      },
      "outputs": [
        {
          "name": "stdout",
          "output_type": "stream",
          "text": [
            "8\n"
          ]
        }
      ],
      "source": [
        "!cp jar/slave.jar /tmp/$NB_USER && java -jar /tmp/$NB_USER/slave.jar"
      ]
    },
    {
      "cell_type": "markdown",
      "metadata": {
        "id": "-kWb3vxy0vJ4"
      },
      "source": [
        "__3. JAR copy and remote execution\n",
        "\n",
        "From machine A containing `/tmp/<your username>/slave.jar`\n",
        "Create remotely on machine B (if it does not exist) a directory `/tmp/<your user name>/`\n",
        "Copy slave.jar to machine B in the directory `/tmp/<your username>/`\n",
        "Run remotely (from A on machine B) the slave.jar.\n",
        "What is the command typed to perform this last action?"
      ]
    },
    {
      "cell_type": "code",
      "execution_count": null,
      "metadata": {
        "id": "ybzOoLnL0vJ4",
        "outputId": "598a0724-c423-481a-ffc9-2a9a38794ba9",
        "vscode": {
          "languageId": "java"
        }
      },
      "outputs": [
        {
          "name": "stdout",
          "output_type": "stream",
          "text": [
            "Warning: Permanently added 'worker-1,172.21.0.3' (ECDSA) to the list of known hosts.\n",
            "bash: warning: setlocale: LC_ALL: cannot change locale (en_US.UTF-8)\n",
            "mkdir: cannot create directory '/tmp/jovyan': File exists\n",
            "Warning: Permanently added 'worker-1,172.21.0.3' (ECDSA) to the list of known hosts.\n",
            "bash: warning: setlocale: LC_ALL: cannot change locale (en_US.UTF-8)\n",
            "slave.jar                                     100%   10KB   4.6MB/s   00:00    \n",
            "Warning: Permanently added 'worker-1,172.21.0.3' (ECDSA) to the list of known hosts.\n",
            "bash: warning: setlocale: LC_ALL: cannot change locale (en_US.UTF-8)\n",
            "8\n"
          ]
        }
      ],
      "source": [
        "!ssh root@worker-1 mkdir /tmp/$NB_USER\n",
        "!scp jar/slave.jar root@worker-1:/tmp/$NB_USER\n",
        "!ssh root@worker-1 java -jar /tmp/$NB_USER/slave.jar"
      ]
    },
    {
      "cell_type": "markdown",
      "metadata": {
        "id": "8z82ge9M0vJ4"
      },
      "source": [
        "__Enable java kernel__"
      ]
    },
    {
      "cell_type": "markdown",
      "metadata": {
        "id": "hpW0A2pA0vJ4"
      },
      "source": [
        "### <font color=\"red\">Step 5</font> : Run command line programs from java and show standard output and error output."
      ]
    },
    {
      "cell_type": "markdown",
      "metadata": {
        "id": "IUvLtr6v0vJ4"
      },
      "source": [
        "__1. A MASTER java program that launches another command line program!\n",
        "\n",
        "Write a java program named “MASTER” that runs the following command using ProcessBuilder:\n",
        "```sh\n",
        "ls -al /tmp\n",
        "```\n",
        "(you can also test this command in a terminal before)\n",
        "Retrieve and display the output of this command.\n",
        "You should use ProcessBuilder this way:\n",
        "\n",
        "```java\n",
        "ProcessBuilder pb = new ProcessBuilder(\"ls\", “-al”, “/tmp”);\n",
        "```"
      ]
    },
    {
      "cell_type": "code",
      "execution_count": null,
      "metadata": {
        "id": "0wlx6vvk0vJ4",
        "vscode": {
          "languageId": "java"
        }
      },
      "outputs": [],
      "source": [
        "import java.io.BufferedReader;\n",
        "import java.io.IOException;\n",
        "import java.io.InputStreamReader;\n",
        "\n",
        "public class Master {\n",
        "    public static void run_shell_command(String[] command) {\n",
        "        ProcessBuilder pb = new ProcessBuilder(command);\n",
        "\n",
        "        try {\n",
        "            Process process = pb.start();\n",
        "            BufferedReader reader_input = new BufferedReader(new InputStreamReader(process.getInputStream()));\n",
        "\n",
        "            String line;\n",
        "            while ((line = reader_input.readLine()) != null) {\n",
        "                System.out.println(line);\n",
        "            }\n",
        "\n",
        "        } catch (IOException e) {\n",
        "            e.printStackTrace();\n",
        "        }\n",
        "    }\n",
        "\n",
        "    public static void main(String[] args) throws IOException {\n",
        "        Master.run_shell_command(args[0].split(\" \"));\n",
        "    }\n",
        "}"
      ]
    },
    {
      "cell_type": "code",
      "execution_count": null,
      "metadata": {
        "id": "z-RRK4Yh0vJ4",
        "outputId": "ee024e07-f476-4137-dc8d-4bde4af0e034",
        "vscode": {
          "languageId": "java"
        }
      },
      "outputs": [
        {
          "name": "stdout",
          "output_type": "stream",
          "text": [
            "total 32\n",
            "drwxrwxrwt 1 root   root  4096 Nov 10 20:03 .\n",
            "drwxr-xr-x 1 root   root  4096 Nov 10 19:56 ..\n",
            "drwxr-xr-x 2 jovyan users 4096 Aug  3 03:25 .empty\n",
            "-rw-r--r-- 1 jovyan users  413 Nov 10 12:34 gradle-worker-classpath17894997741142749954txt\n",
            "drwxr-xr-x 1 jovyan users 4096 Nov 10 20:04 hsperfdata_jovyan\n",
            "drwxr-xr-x 2 root   root  4096 Nov 10 12:34 hsperfdata_root\n",
            "drwxr-xr-x 2 jovyan users 4096 Nov 10 20:03 jovyan\n"
          ]
        }
      ],
      "source": [
        "new Master().main(new String[]{\"ls -al /tmp\"});"
      ]
    },
    {
      "cell_type": "markdown",
      "metadata": {
        "id": "csNU5sa80vJ4"
      },
      "source": [
        "__2. A MASTER java program that handles errors when launching another program from the command line.\n",
        "\n",
        "Modify your \"MASTER\" program to show error output if there is an error while executing the command. Test the error output with a command that fails with an error output. For example, try running the command “ls /jesuisunhero”.\n",
        "Explanations: if you type the command “ls /jesuisunhero”, the /jesuisunhero folder does not exist, you will get an error like “cannot access /jesuisunhero: no file or folder of this type.” which is displayed in the error output. Indeed, there are two outputs: the standard outputs (without error) and the error outputs.\n",
        "You should use ProcessBuilder this way:\n",
        "```java\n",
        "ProcessBuilder pb = new ProcessBuilder(\"ls\", \"/jesuisunhero”);\n",
        "```\n",
        "On `pb` you can get the standard output stream and the error output stream."
      ]
    },
    {
      "cell_type": "markdown",
      "metadata": {
        "id": "lR3C_6i40vJ4"
      },
      "source": [
        "In order to handle possible errors when launching the process, we can use the `getErrorStream` method of the `Process` object. This method returns the error message stream of the process."
      ]
    },
    {
      "cell_type": "code",
      "execution_count": null,
      "metadata": {
        "id": "q9ceSfoi0vJ4",
        "vscode": {
          "languageId": "java"
        }
      },
      "outputs": [],
      "source": [
        "import java.io.BufferedReader;\n",
        "import java.io.IOException;\n",
        "import java.io.InputStreamReader;\n",
        "\n",
        "public class Master {\n",
        "    public static void run_shell_command(String[] command) {\n",
        "        ProcessBuilder pb = new ProcessBuilder(command);\n",
        "\n",
        "        try {\n",
        "            Process process = pb.start();\n",
        "            BufferedReader reader_input = new BufferedReader(new InputStreamReader(process.getInputStream()));\n",
        "\n",
        "            String line;\n",
        "            while ((line = reader_input.readLine()) != null) {\n",
        "                System.out.println(line);\n",
        "            }\n",
        "            \n",
        "            BufferedReader reader_error = new BufferedReader(new InputStreamReader(process.getErrorStream()));\n",
        "\n",
        "            while ((line = reader_error.readLine()) != null) {\n",
        "                System.out.println(line);\n",
        "            }\n",
        "\n",
        "        } catch (IOException e) {\n",
        "            e.printStackTrace();\n",
        "        }\n",
        "    }\n",
        "\n",
        "    public static void main(String[] args) throws IOException {\n",
        "        Master.run_shell_command(args[0].split(\" \"));\n",
        "    }\n",
        "}"
      ]
    },
    {
      "cell_type": "code",
      "execution_count": null,
      "metadata": {
        "id": "WErkiJal0vJ5",
        "outputId": "f4234488-d6ef-4d94-80d2-99de53aec9cd",
        "vscode": {
          "languageId": "java"
        }
      },
      "outputs": [
        {
          "name": "stdout",
          "output_type": "stream",
          "text": [
            "ls: cannot access '/fr': No such file or directory\n"
          ]
        }
      ],
      "source": [
        "new Master().main(new String[]{\"ls -al /fr\"});"
      ]
    },
    {
      "cell_type": "markdown",
      "metadata": {
        "id": "QY7uz-EB0vJ5"
      },
      "source": [
        "__3. A MASTER java program that launches a slave.jar from the command line.\n",
        "\n",
        "Modify your “MASTER” program so that it launches “SLAVE”, i.e. slave.jar located on the same machine as “MASTER” in the folder\n",
        "```sh\n",
        "/tmp/<your username>/slave.jar\n",
        "```"
      ]
    },
    {
      "cell_type": "code",
      "execution_count": null,
      "metadata": {
        "id": "WWaTqVyj0vJ5",
        "outputId": "f9e39dee-dfa4-4823-fe98-79dd49fadae6",
        "vscode": {
          "languageId": "java"
        }
      },
      "outputs": [
        {
          "name": "stdout",
          "output_type": "stream",
          "text": [
            "8\n"
          ]
        }
      ],
      "source": [
        "new Master().main(new String[]{\"java -jar jar/slave.jar\"});"
      ]
    },
    {
      "cell_type": "markdown",
      "metadata": {
        "id": "l688k2GN0vJ5"
      },
      "source": [
        "### <font color=\"red\">Step 6</font> : Manage MASTER timeouts."
      ]
    },
    {
      "cell_type": "markdown",
      "metadata": {
        "id": "k2c2SMVq0vJ5"
      },
      "source": [
        "__1. A SLAVE that simulates a 10 second calculation.\n",
        "\n",
        "Modify your SLAVE program so that it simulates a 10 second wait before displaying the result of the 3+5 calculation. For this use\n",
        "`Thread.sleep(10000);`\n",
        "Check the proper functioning of the SLAVE and note that there are 10 seconds between the start of the SLAVE and the display of the result. Be careful not to display anything before the 10 seconds for the following question to work correctly.\n",
        "Generate the slave.jar again. Copy it overwriting the slave.jar in the `/tmp/<your username>/slave.jar` folder\n",
        "Test launch from MASTER."
      ]
    },
    {
      "cell_type": "code",
      "execution_count": null,
      "metadata": {
        "id": "Z_bHm4rZ0vJ5",
        "vscode": {
          "languageId": "java"
        }
      },
      "outputs": [],
      "source": [
        "public class Slave {\n",
        "\n",
        "    public static void main() throws InterruptedException {\n",
        "        Thread.sleep(10000);\n",
        "        System.out.println(3 + 5);\n",
        "    }\n",
        "}"
      ]
    },
    {
      "cell_type": "code",
      "execution_count": null,
      "metadata": {
        "id": "ASCo52kd0vJ5",
        "outputId": "2974e8dc-764b-41aa-af69-510bf4f1385a",
        "vscode": {
          "languageId": "java"
        }
      },
      "outputs": [
        {
          "name": "stdout",
          "output_type": "stream",
          "text": [
            "8\n"
          ]
        }
      ],
      "source": [
        "new Slave().main()"
      ]
    },
    {
      "cell_type": "markdown",
      "metadata": {
        "id": "yR89XlaH0vJ5"
      },
      "source": [
        "__2. Manage timeouts at MASTER level\n",
        "\n",
        "Modify the MASTER so that it waits for something to be written to the standard output (without error) or to the error output of the SLAVE for a certain maximum time. At the end of the allotted time, the MASTER considers a timeout.\n",
        "It stops any threads (if you use threads - not mandatory) dealing with outputs and/or stops the process created with ProcessBuilder.\n",
        "\n",
        "You will need to check the following TESTs:\n",
        "- TEST1: Test the proper functioning of the timeout by launching the SLAVE with a timeout of 2 seconds on the outputs (standard and error). The timeout being shorter (at the level of the MASTER 2 seconds) than the calculation time of the SLAVE (10 seconds), the MASTER must stop the possible threads (if you use some) and the process.\n",
        "- TEST 2: Then test with a timeout of 15 seconds, there should be no timeout.\n",
        "- TEST 3: Then test by changing the SLAVE so that it no longer writes to the standard output (without error) but to the error output. To do this, replace in the Slave the System.out.print… by System.err.print…"
      ]
    },
    {
      "cell_type": "code",
      "execution_count": null,
      "metadata": {
        "id": "NmuAkNmg0vJ5",
        "vscode": {
          "languageId": "java"
        }
      },
      "outputs": [],
      "source": [
        "import java.io.BufferedReader;\n",
        "import java.io.IOException;\n",
        "import java.io.InputStream;\n",
        "import java.io.InputStreamReader;\n",
        "import java.util.Arrays;\n",
        "import java.util.concurrent.LinkedBlockingQueue;\n",
        "import java.util.concurrent.TimeUnit;\n",
        "\n",
        "public class Master {\n",
        "\n",
        "    static class ProcessLauncher {\n",
        "        Process process;\n",
        "        Integer timeout;\n",
        "        String[] command;\n",
        "        boolean error = false;\n",
        "        ThreadReaderStream input_stream;\n",
        "        ThreadReaderStream error_stream;\n",
        "\n",
        "        ProcessLauncher(String command, Integer timeout) {\n",
        "            this.timeout = timeout;\n",
        "            this.command = command.split(\" \");\n",
        "            ProcessBuilder builder = new ProcessBuilder(this.command);\n",
        "            try {\n",
        "                this.process = builder.start();\n",
        "            } catch (IOException e1) {\n",
        "                e1.printStackTrace();\n",
        "            }\n",
        "            assert process != null;\n",
        "            input_stream = new ThreadReaderStream(process.getInputStream());\n",
        "            error_stream = new ThreadReaderStream(process.getErrorStream());\n",
        "            input_stream.start();\n",
        "            error_stream.start();\n",
        "        }\n",
        "\n",
        "        boolean launch_process() throws InterruptedException {\n",
        "            String line;\n",
        "            while (((line = input_stream.queue.poll(this.timeout, TimeUnit.SECONDS)) != null)) {\n",
        "                System.out.print(line + \"\\n\");\n",
        "            }\n",
        "            while (((line = error_stream.queue.poll()) != null)) {\n",
        "                System.out.print(line + \"\\n\");\n",
        "                error = true;\n",
        "            }\n",
        "            return !error;\n",
        "        }\n",
        "    }\n",
        "\n",
        "    static class ThreadReaderStream extends Thread {\n",
        "        LinkedBlockingQueue<String> queue = new LinkedBlockingQueue<>();\n",
        "        BufferedReader reader;\n",
        "\n",
        "        ThreadReaderStream(InputStream stream) {\n",
        "            this.reader = new BufferedReader(new InputStreamReader(stream));\n",
        "        }\n",
        "\n",
        "        @Override\n",
        "        public void run() {\n",
        "            try {\n",
        "                String line;\n",
        "                while ((line = reader.readLine()) != null) {\n",
        "                    queue.put(line);\n",
        "                }\n",
        "            } catch (IOException | InterruptedException e) {\n",
        "                e.printStackTrace();\n",
        "            }\n",
        "        }\n",
        "    }\n",
        "\n",
        "\n",
        "    public static void main(String[] args) throws InterruptedException {\n",
        "        // Deploy the\n",
        "        String[] pc = args;\n",
        "        // Une facon de lancer les threads, sans attendre de retour de leur part:\n",
        "        Arrays.asList(pc).parallelStream()\n",
        "                .forEach(command -> {\n",
        "                    try {\n",
        "                        new ProcessLauncher(command, 2).launch_process();\n",
        "                    } catch (InterruptedException e) {\n",
        "                        e.printStackTrace();\n",
        "                    }});\n",
        "    }\n",
        "}"
      ]
    },
    {
      "cell_type": "markdown",
      "metadata": {
        "id": "c0zvFYkA0vJ5"
      },
      "source": [
        "### <font color=\"red\">Step 7</font> Automatically deploy the SLAVE program on a set of machines."
      ]
    },
    {
      "cell_type": "markdown",
      "metadata": {
        "id": "RzbDQio80vJ5"
      },
      "source": [
        "From this step, the classes present in the `src.mapreduce` package of the project will be used to answer the questions. In order to simplify the report, certain questions will be dealt with briefly. The `mapreduce` package contains 5 classes:\n",
        "\n",
        "- Master: This is the master program of the mapreduce.\n",
        "- Slave: Corresponds to the code executed on the workers (map, shuffle and reduce).\n",
        "- Deploy: Used to deploy items to workers\n",
        "- Clean: Used to clean environments on workers\n",
        "- Utils: Contains useful functions common between all classes\n",
        "\n",
        "All process launches on the machines are done in parallel via the methods of the `Utils` class:\n",
        "\n",
        "- `launch_actions_with_return`: Launch a process and get the output.\n",
        "- `launch_actions_without_return`: Launches a process without waiting for a return.\n",
        "\n",
        "The `parallelStream()` method perm"
      ]
    },
    {
      "cell_type": "code",
      "execution_count": null,
      "metadata": {
        "id": "wTcLCkR40vJ6",
        "vscode": {
          "languageId": "java"
        }
      },
      "outputs": [],
      "source": [
        "import java.io.*;\n",
        "import java.nio.file.Files;\n",
        "import java.nio.file.Path;\n",
        "import java.nio.file.Paths;\n",
        "import java.util.ArrayList;\n",
        "import java.util.Collections;\n",
        "import java.util.List;\n",
        "import java.util.concurrent.LinkedBlockingQueue;\n",
        "import java.util.concurrent.TimeUnit;\n",
        "import java.util.stream.Collectors;\n",
        "import java.util.stream.Stream;\n",
        "\n",
        "class Utils {\n",
        "\n",
        "\n",
        "    static ArrayList<String> read_file(String filename) {\n",
        "        ArrayList<String> lines;\n",
        "        try {\n",
        "            lines = (ArrayList<String>) Files.readAllLines(Paths.get(filename));\n",
        "        } catch (IOException e) {\n",
        "            System.out.println(\"Problem when loading file\");\n",
        "            return null;\n",
        "        }\n",
        "        return lines;\n",
        "    }\n",
        "\n",
        "    static ArrayList<String[]> tokenize(ArrayList<String> lines) {\n",
        "        ArrayList<String[]> tokenize_corpus = new ArrayList<>();\n",
        "        for (String line : lines) {\n",
        "            // removes punctuations\n",
        "            line = line.toLowerCase().trim();\n",
        "\n",
        "            tokenize_corpus.add(line.split(\" \"));\n",
        "        }\n",
        "\n",
        "        return tokenize_corpus;\n",
        "    }\n",
        "\n",
        "    static void launch_actions_without_return(ArrayList<String> actions) throws InterruptedException {\n",
        "        ArrayList<ProcessLauncher> launchers = new ArrayList<>();\n",
        "        for (String command : actions) {\n",
        "            launchers.add(new ProcessLauncher(command, 2));\n",
        "            System.out.println(command);\n",
        "        }\n",
        "\n",
        "        launchers.parallelStream().forEach(ProcessLauncher::launch_process);\n",
        "\n",
        "        for (ProcessLauncher launcher : launchers)\n",
        "            launcher.input_stream.join();\n",
        "    }\n",
        "\n",
        "    static List<Boolean> launch_actions_with_return(ArrayList<String> actions) throws InterruptedException {\n",
        "        ArrayList<ProcessLauncher> launchers = new ArrayList<>();\n",
        "        for (String command : actions) {\n",
        "            launchers.add(new ProcessLauncher(command, 2));\n",
        "        }\n",
        "        List<Boolean> returnValue = launchers.parallelStream()\n",
        "                .map(ProcessLauncher::launch_process).collect(Collectors.toCollection(ArrayList::new));\n",
        "        for (ProcessLauncher launcher : launchers)\n",
        "            launcher.input_stream.join();\n",
        "        return returnValue;\n",
        "    }\n",
        "\n",
        "    static List<String> list_directory(String path_to_directory){\n",
        "        try (Stream<Path> walk = Files.walk(Paths.get(path_to_directory))) {\n",
        "\n",
        "            return walk.filter(Files::isRegularFile)\n",
        "                    .map(Path::toString).collect(Collectors.toList());\n",
        "        } catch (IOException e) {\n",
        "            e.printStackTrace();\n",
        "        }\n",
        "        return Collections.emptyList();\n",
        "    }\n",
        "\n",
        "    static void write_file(List<String> word_count, String filename, String mode) throws IOException {\n",
        "        if (mode.equals(\"a\")){\n",
        "            try{\n",
        "                FileWriter fstream = new FileWriter(filename,true);\n",
        "                BufferedWriter writer = new BufferedWriter(fstream);\n",
        "                for (String line:word_count){\n",
        "                    writer.write(line + \"\\n\");\n",
        "                }\n",
        "                writer.close();\n",
        "            }catch (Exception e){\n",
        "                System.err.println(\"Error while writing to file: \" +\n",
        "                        e.getMessage());\n",
        "            }\n",
        "        } else if (mode.equals(\"w\")){\n",
        "            BufferedWriter writer = new BufferedWriter(new FileWriter(filename));\n",
        "            for (String line:word_count){\n",
        "                writer.write(line + \"\\n\");\n",
        "            }\n",
        "            writer.close();\n",
        "        }\n",
        "    }\n",
        "\n",
        "    static class ProcessLauncher {\n",
        "        Process process;\n",
        "        Integer timeout;\n",
        "        String[] command;\n",
        "        ThreadReaderStream input_stream;\n",
        "        ThreadReaderStream error_stream;\n",
        "\n",
        "        ProcessLauncher(String command, Integer timeout) {\n",
        "            this.timeout = timeout;\n",
        "            this.command = command.split(\" \");\n",
        "            ProcessBuilder builder = new ProcessBuilder(this.command);\n",
        "            try {\n",
        "                this.process = builder.start();\n",
        "            } catch (IOException e1) {\n",
        "                e1.printStackTrace();\n",
        "            }\n",
        "            assert process != null;\n",
        "            input_stream = new ThreadReaderStream(process.getInputStream());\n",
        "            error_stream = new ThreadReaderStream(process.getErrorStream());\n",
        "            input_stream.start();\n",
        "            error_stream.start();\n",
        "        }\n",
        "\n",
        "        boolean launch_process() {\n",
        "            String line;\n",
        "            boolean running = true;\n",
        "            boolean tooLong = false;\n",
        "            while (running) {\n",
        "                try {\n",
        "                    // Wait For retourne vrai si le programme est arrete\n",
        "                    boolean stillRunning = !process.waitFor(5, TimeUnit.SECONDS);\n",
        "                    // On lit la sortie standard. Si on a eu quelque chose, on continue\n",
        "                    // ​\n",
        "                    if (!input_stream.queue.isEmpty()) {\n",
        "                        // On a du monde dans le buffer. On les recupere.\n",
        "                        // Si on ne veut pas les récuperer, on peut faire un \"reset\"\n",
        "                        // reader.reset();\n",
        "                        while (((line = input_stream.queue.poll()) != null)) {\n",
        "                            System.out.println(line);\n",
        "                        }\n",
        "                    } else if (!error_stream.queue.isEmpty()) {\n",
        "                        // On a du monde dans le buffer. On les recupere.\n",
        "                        // Si on ne veut pas les récuperer, on peut faire un \"reset\"\n",
        "                        // reader.reset();\n",
        "                        while (((line = error_stream.queue.poll()) != null)) {\n",
        "                            System.out.println(line);\n",
        "                        }\n",
        "                    } else if (stillRunning) {\n",
        "                        // Le process n'a rien écris pendant les 5 secondes. On le tue\n",
        "                        tooLong = true;\n",
        "                        process.destroy();\n",
        "                    }\n",
        "                    running = stillRunning && !tooLong;\n",
        "                } catch (InterruptedException e) {\n",
        "                    e.printStackTrace();\n",
        "                }\n",
        "            }\n",
        "            return !tooLong && process.exitValue()==0;\n",
        "        }\n",
        "    }\n",
        "\n",
        "    static class ThreadReaderStream extends Thread {\n",
        "        LinkedBlockingQueue<String> queue = new LinkedBlockingQueue<>();\n",
        "        BufferedReader reader;\n",
        "\n",
        "        ThreadReaderStream(InputStream stream) {\n",
        "            this.reader = new BufferedReader(new InputStreamReader(stream));\n",
        "        }\n",
        "\n",
        "        @Override\n",
        "        public void run() {\n",
        "            try {\n",
        "                String line;\n",
        "                while ((line = reader.readLine()) != null) {\n",
        "                    queue.put(line);\n",
        "                }\n",
        "            } catch (IOException | InterruptedException e) {\n",
        "                e.printStackTrace();\n",
        "            }\n",
        "        }\n",
        "    }\n",
        "}"
      ]
    },
    {
      "cell_type": "markdown",
      "metadata": {
        "id": "kNV5Ppgh0vJ6"
      },
      "source": [
        "__1. A DEPLOY program: Multiple SSH connection test__\n",
        "\n",
        "Create a text file by hand containing: the IP addresses and/or names of the machines we want to use for our distributed system (for example all the machines in this lab room), with one name or one IP per line in the file.\n",
        "Create a new java DEPLOY program that reads this file line by line and tests if the SSH connection works well on each machine. Attention, this is indeed a new program which is separate from MASTER or SLAVE, you will only run it in the event of an update of the SLAVE. This allows you to check that a machine is not turned off or that there is a connection problem (for example).\n",
        "To verify that the connection works well, you can display the name of the remote machine (by executing the hostname command remotely) and verify that the display actually takes place, without errors. Reuse parts of codes from the fifth step.\n",
        "\n",
        "Does your DEPLOY program launch connections sequentially (one after another) or in parallel?\n",
        "\n",
        "\n",
        "__2. A DEPLOY program: copy of slave.jar multiple__\n",
        "\n",
        "Modify your DEPLOY program to copy the slave.jar to `/tmp/<your username>/` on computers with a working SSH connection.\n",
        "\n",
        "To do this, you must use the mkdir -p command to create the directories in /tmp if they do not already exist, wait for the mkdir to finish and then scp copy the slave.jar file. How do you wait for the mkdir to complete successfully?\n",
        "Then manually verify that the file has been copied to the remote computers.\n",
        "Be careful to wait for the end of the mkdir before launching the scp (we do not want to have a copy before the folder is actually created).\n",
        "\n",
        "When copying, pay attention to the “/” character at the end of a path:\n",
        "/tmp/foo is a path to a file named foo\n",
        "/tmp/foo/ is a path to a folder named foo.\n",
        "\n",
        "Does your DEPLOY program launch the copies sequentially (one after another) or in parallel?\n",
        "\n",
        "Does your DEPLOY program launch the copies sequentially (one after another) or in parallel?"
      ]
    },
    {
      "cell_type": "code",
      "execution_count": null,
      "metadata": {
        "id": "WyJzTcqX0vJ6",
        "vscode": {
          "languageId": "java"
        }
      },
      "outputs": [],
      "source": [
        "import java.util.*;\n",
        "\n",
        "public class Deploy {\n",
        "\n",
        "    public static Boolean deploy(List<String> hostnames, String host_path, String remote_path) throws InterruptedException {\n",
        "        ArrayList<String> health_checks = new ArrayList<>();\n",
        "        ArrayList<String> check_dir = new ArrayList<>();\n",
        "        ArrayList<String> create_dirs = new ArrayList<>();\n",
        "        ArrayList<String> run_copy = new ArrayList<>();\n",
        "\n",
        "        // Create list of commands for each machines\n",
        "        assert hostnames != null;\n",
        "        for (String hostname : hostnames) {\n",
        "            health_checks.add(\"ssh -o StrictHostKeyChecking=no root@\" + hostname + \" hostname\");\n",
        "            create_dirs.add(\"ssh root@\" + hostname + \" if test ! -d \" + remote_path + \"; then mkdir -p \" + remote_path + \"; fi\");\n",
        "            check_dir.add(\"ssh root@\" + hostname + \" ls /tmp/root\");\n",
        "            run_copy.add(\"scp -r \" + host_path + \" root@\" + hostname + \":\" + remote_path);\n",
        "        }\n",
        "\n",
        "        // Apply health checker\n",
        "        List<Boolean> returnValue = Utils.launch_actions_with_return(health_checks);\n",
        "\n",
        "        // Check all machine are alive and deploy jar\n",
        "        boolean isNodesOk = returnValue.stream().allMatch(x -> x);\n",
        "        if (isNodesOk) {\n",
        "            Utils.launch_actions_without_return(create_dirs);\n",
        "\n",
        "            // wait for directories creation and check the creation\n",
        "            Thread.sleep(3000);\n",
        "            returnValue = Utils.launch_actions_with_return(check_dir);\n",
        "\n",
        "            // if all directories are created, deploy jar file\n",
        "            if (returnValue.stream().allMatch(x -> x)) {\n",
        "                Utils.launch_actions_without_return(run_copy);\n",
        "            } else {\n",
        "                System.out.println(\"Something went wrong during the directories creation\");\n",
        "                return false;\n",
        "            }\n",
        "        } else {\n",
        "            System.out.println(\"Not all nodes are safe, please check connection\");\n",
        "            return false;\n",
        "        }\n",
        "        return true;\n",
        "    }\n",
        "\n",
        "    public static void main(String[] args) throws InterruptedException {\n",
        "        System.out.println(\"Hello from deploy!\");\n",
        "    }\n",
        "}"
      ]
    },
    {
      "cell_type": "code",
      "execution_count": null,
      "metadata": {
        "id": "oRv66yBw0vJ6",
        "outputId": "268f0fe7-f22e-4857-fcdd-77c81f20aa10",
        "vscode": {
          "languageId": "java"
        }
      },
      "outputs": [
        {
          "name": "stdout",
          "output_type": "stream",
          "text": [
            "worker-2\n",
            "worker-3\n",
            "worker-1\n",
            "ssh root@worker-1 if test ! -d /tmp/root/; then mkdir -p /tmp/root/; fi\n",
            "ssh root@worker-2 if test ! -d /tmp/root/; then mkdir -p /tmp/root/; fi\n",
            "ssh root@worker-3 if test ! -d /tmp/root/; then mkdir -p /tmp/root/; fi\n",
            "Warning: Permanently added 'worker-1,172.20.0.4' (ECDSA) to the list of known hosts.\n",
            "bash: warning: setlocale: LC_ALL: cannot change locale (en_US.UTF-8)\n",
            "Warning: Permanently added 'worker-3,172.20.0.2' (ECDSA) to the list of known hosts.\n",
            "bash: warning: setlocale: LC_ALL: cannot change locale (en_US.UTF-8)\n",
            "Warning: Permanently added 'worker-2,172.20.0.3' (ECDSA) to the list of known hosts.\n",
            "bash: warning: setlocale: LC_ALL: cannot change locale (en_US.UTF-8)\n",
            "job.jar\n",
            "job.jar\n",
            "job.jar\n",
            "scp -r jar/job.jar root@worker-1:/tmp/root/\n",
            "scp -r jar/job.jar root@worker-2:/tmp/root/\n",
            "scp -r jar/job.jar root@worker-3:/tmp/root/\n",
            "Warning: Permanently added 'worker-2,172.20.0.3' (ECDSA) to the list of known hosts.\n",
            "bash: warning: setlocale: LC_ALL: cannot change locale (en_US.UTF-8)\n",
            "Warning: Permanently added 'worker-1,172.20.0.4' (ECDSA) to the list of known hosts.\n",
            "bash: warning: setlocale: LC_ALL: cannot change locale (en_US.UTF-8)\n",
            "Warning: Permanently added 'worker-3,172.20.0.2' (ECDSA) to the list of known hosts.\n",
            "bash: warning: setlocale: LC_ALL: cannot change locale (en_US.UTF-8)\n"
          ]
        },
        {
          "data": {
            "text/plain": [
              "true"
            ]
          },
          "execution_count": 32,
          "metadata": {},
          "output_type": "execute_result"
        }
      ],
      "source": [
        "ArrayList<String> hostnames = Utils.read_file(\"data/hostnames.txt\");\n",
        "String path_to_jar = \"jar/job.jar\";\n",
        "String path_to_remote_host = \"/tmp/root/\";\n",
        "\n",
        "Deploy.deploy(hostnames,\n",
        "          path_to_jar,\n",
        "          path_to_remote_host);"
      ]
    },
    {
      "cell_type": "markdown",
      "metadata": {
        "id": "DpjCvmtU0vJ6"
      },
      "source": [
        "### <font color=\"red\">Step 8</font> : clean a set of machines with CLEAN."
      ]
    },
    {
      "cell_type": "markdown",
      "metadata": {
        "id": "GbBT74e20vJ6"
      },
      "source": [
        "__1. A “CLEAN” program that cleans up remote machines.__\n",
        "\n",
        "Create a new CLEAN program (different from MASTER, SLAVE, or DEPLOY) that clears your /tmp/<your username>/ folder on computers with a working SSH connection. For this, you will use the same text file written by hand and used by DEPLOY containing: the IP addresses and/or the names of the machines that we want to use for our distributed system (for example all the machines in this lab room), with one name or IP per line in the file.\n",
        "\n",
        "CLEAN reads this file line by line and erases on each of the machines your folder created in the temporary folder, by launching the remote command\n",
        "```sh\n",
        "rm -rf /tmp/<your username>/\n",
        "```\n",
        "Be careful to wait for the end of the `rm -rf` command to be sure that the deletion has been carried out.\n",
        "\n",
        "Does your CLEAN program run erase commands sequentially (one after another) or in parallel?\n",
        "\n",
        "__2. Verification of DEPLOY and CLEAN__\n",
        "\n",
        "Manually verify that the deletion of folders takes place. This program allows you to clean a set of machines before restarting a calculation. From now on you can deploy your application using DEPLOY and you can clean up your application using CLEAN. So check that DEPLOY followed by CLEAN works correctly."
      ]
    },
    {
      "cell_type": "markdown",
      "metadata": {
        "id": "BYNMj5r10vJ6"
      },
      "source": [
        "The commands are launched on the machines in parallel via the methods of the `Utils` class:\n",
        "\n",
        "- `launch_actions_with_return`: Launch a process and get the output.\n",
        "- `launch_actions_without_return`: Launches a process without waiting for a return.\n",
        "\n",
        "The `parallelStream()` method allows us to browse and launch each command in our list in parallel."
      ]
    },
    {
      "cell_type": "code",
      "execution_count": null,
      "metadata": {
        "id": "WDZ8s4yr0vJ6",
        "vscode": {
          "languageId": "java"
        }
      },
      "outputs": [],
      "source": [
        "import java.util.ArrayList;\n",
        "import java.util.List;\n",
        "\n",
        "public class Clean {\n",
        "    public static void main(String[] args) throws InterruptedException {\n",
        "        ArrayList<String> hostnames = Utils.read_file(args[0]);\n",
        "        ArrayList<String> remove_folder = new ArrayList<>();\n",
        "        ArrayList<String> check_remove = new ArrayList<>();\n",
        "\n",
        "        // Create list of commands for each machines\n",
        "        assert hostnames != null;\n",
        "        for (String hostname : hostnames){\n",
        "            remove_folder.add(\"ssh root@\" + hostname + \" rm -rf /tmp/root\");\n",
        "            check_remove.add(\"ssh root@\" + hostname + \" ls /tmp/root\");\n",
        "        }\n",
        "\n",
        "        // Apply health checker\n",
        "        List<Boolean> returnValue = Utils.launch_actions_with_return(remove_folder);\n",
        "        System.out.println(returnValue);\n",
        "        returnValue = Utils.launch_actions_with_return(check_remove);\n",
        "        System.out.println(returnValue);\n",
        "    }\n",
        "}"
      ]
    },
    {
      "cell_type": "code",
      "execution_count": null,
      "metadata": {
        "id": "y2BiDjes0vJ7",
        "outputId": "7d31514c-f7de-4131-925e-efb808c6b722",
        "vscode": {
          "languageId": "java"
        }
      },
      "outputs": [
        {
          "name": "stdout",
          "output_type": "stream",
          "text": [
            "Warning: Permanently added 'worker-1,172.20.0.4' (ECDSA) to the list of known hosts.\n",
            "bash: warning: setlocale: LC_ALL: cannot change locale (en_US.UTF-8)\n",
            "Warning: Permanently added 'worker-2,172.20.0.3' (ECDSA) to the list of known hosts.\n",
            "bash: warning: setlocale: LC_ALL: cannot change locale (en_US.UTF-8)\n",
            "Warning: Permanently added 'worker-3,172.20.0.2' (ECDSA) to the list of known hosts.\n",
            "bash: warning: setlocale: LC_ALL: cannot change locale (en_US.UTF-8)\n",
            "[true, true, true]\n",
            "Warning: Permanently added 'worker-1,172.20.0.4' (ECDSA) to the list of known hosts.\n",
            "bash: warning: setlocale: LC_ALL: cannot change locale (en_US.UTF-8)\n",
            "ls: cannot access '/tmp/root': No such file or directory\n",
            "Warning: Permanently added 'worker-3,172.20.0.2' (ECDSA) to the list of known hosts.\n",
            "bash: warning: setlocale: LC_ALL: cannot change locale (en_US.UTF-8)\n",
            "ls: cannot access '/tmp/root': No such file or directory\n",
            "Warning: Permanently added 'worker-2,172.20.0.3' (ECDSA) to the list of known hosts.\n",
            "bash: warning: setlocale: LC_ALL: cannot change locale (en_US.UTF-8)\n",
            "ls: cannot access '/tmp/root': No such file or directory\n",
            "[false, false, false]\n"
          ]
        }
      ],
      "source": [
        "String[] args = {\"data/hostnames.txt\"};\n",
        "\n",
        "Clean.main(args);"
      ]
    },
    {
      "cell_type": "markdown",
      "metadata": {
        "id": "Ao5jZPaJ0vJ7"
      },
      "source": [
        "### <font color=\"red\">Step 10</font> : MAP."
      ]
    },
    {
      "cell_type": "markdown",
      "metadata": {
        "id": "sgid181K0vJ7"
      },
      "source": [
        "![mapreduce](https://fxjollois.github.io/cours-2017-2018/slides/example-mapreduce-wordcount.png)"
      ]
    },
    {
      "cell_type": "markdown",
      "metadata": {
        "id": "OovwhIn70vJ7"
      },
      "source": [
        "__1. A MASTER that deploys the splits__\n",
        "\n",
        "Create three files corresponding to “splits” in the temporary directory. First, create these files manually in `/tmp/<your username>/splits`: S0.txt S1.txt S2.txt.\n",
        "\n",
        "S0.txt contains:\n",
        "Deer Beer River\n",
        "S1.txt contains:\n",
        "Car Car River\n",
        "S2.txt contains:\n",
        "Deer Car Beer\n",
        "\n",
        "Modify your MASTER so that it copies the 3 split files in 3 different computers, copying only one slip per machine. For example, if there are 3 machines and 3 splits, the first machine will have the first split, the second the second etc. For this you will use the previously created file which contains the list of machines you want to use for your project.\n",
        "Please note that the /tmp/<your username>/splits directory must be created on the 3 computers if it does not exist. This creation can be done automatically (by programmatically creating these directories). Be careful to wait until the creation of the folders is done before starting the copy of the splits. How do you wait for the creation of the folders to be done before actually copying the files? In the same way as the DEPLOY program, the MASTER will copy these splits to 3 computers whose SSH connection works.\n",
        "Does your MASTER program launch the copies sequentially (one after the other) or in parallel?"
      ]
    },
    {
      "cell_type": "markdown",
      "metadata": {
        "id": "tm6iOPwJ0vJ7"
      },
      "source": [
        "__Enable python3 kernel__"
      ]
    },
    {
      "cell_type": "markdown",
      "metadata": {
        "id": "jccUMZ-Y0vJ7"
      },
      "source": [
        "The next cell creates the files needed for our mapreduce"
      ]
    },
    {
      "cell_type": "code",
      "execution_count": null,
      "metadata": {
        "id": "B57NIQLf0vJ7",
        "vscode": {
          "languageId": "java"
        }
      },
      "outputs": [],
      "source": [
        "!mkdir -p /tmp/root/splits\n",
        "!echo \"Deer Beer River\" > /tmp/root/splits/S0.txt\n",
        "!echo \"Car Car River\" > /tmp/root/splits/S1.txt\n",
        "!echo \"Deer Car Beer\" > /tmp/root/splits/S2.txt"
      ]
    },
    {
      "cell_type": "markdown",
      "metadata": {
        "id": "pZbBLWu90vJ7"
      },
      "source": [
        "__Enable the java kernel and recompile the classes (Deploy, Clean and Utils)__"
      ]
    },
    {
      "cell_type": "markdown",
      "metadata": {
        "id": "Jvqx5ZbR0vJ7"
      },
      "source": [
        "The `Master` class below launches the different phases of the mapreduce by timing each step. The `Master` waits for the completion of each step via the `join` method of the `Thread` class in Java. The `Master` waits for each process launched with the `launch_actions_with_return` and `launch_actions_without_return` methods to complete before continuing."
      ]
    },
    {
      "cell_type": "code",
      "execution_count": null,
      "metadata": {
        "id": "G7xNxR520vJ7",
        "vscode": {
          "languageId": "java"
        }
      },
      "outputs": [],
      "source": [
        "import java.util.*;\n",
        "\n",
        "public class Master {\n",
        "    public static void main(String[] args) throws InterruptedException {\n",
        "        ArrayList<String> hostnames = Utils.read_file(args[0]);\n",
        "        Set<String> slaves = new HashSet<>();\n",
        "        List<String> files = Utils.list_directory(args[1]);\n",
        "        ArrayList<String> health_checks = new ArrayList<>();\n",
        "        ArrayList<String> create_dirs = new ArrayList<>();\n",
        "        ArrayList<String> check_dir = new ArrayList<>();\n",
        "        ArrayList<String> run_copy = new ArrayList<>();\n",
        "        ArrayList<String> run_map = new ArrayList<>();\n",
        "        ArrayList<String> run_shuffle = new ArrayList<>();\n",
        "        ArrayList<String> run_reduce = new ArrayList<>();\n",
        "        ArrayList<String> copy_hostnames_file = new ArrayList<>();\n",
        "        Random rand = new Random();\n",
        "\n",
        "        for (String file:files){\n",
        "            assert hostnames != null;\n",
        "            String slave = hostnames.get(rand.nextInt(hostnames.size()));\n",
        "            slaves.add(slave);\n",
        "            health_checks.add(\"ssh -o StrictHostKeyChecking=no root@\" + slave + \" hostname\");\n",
        "            create_dirs.add(\"ssh root@\" + slave + \" if test ! -d \" + args[2] + \"; then mkdir -p \" + args[2] + \"; fi\");\n",
        "            run_copy.add(\"scp -r \" + file + \" root@\" + slave + \":\" + args[2]);\n",
        "            check_dir.add(\"ssh root@\" + slave + \" ls \" + args[2]);\n",
        "            run_map.add(\"ssh root@\" + slave + \" java -jar /tmp/root/job.jar 0 \" + file);\n",
        "            copy_hostnames_file.add(\"scp \" + args[0] + \" root@\" + slave + \":/tmp/root\");\n",
        "\n",
        "        }\n",
        "        for (String slave:slaves)\n",
        "            run_shuffle.add(\"ssh root@\" + slave + \" java -jar /tmp/root/job.jar 1 \");\n",
        "\n",
        "        assert hostnames != null;\n",
        "        for (String slave:hostnames)\n",
        "            run_reduce.add(\"ssh root@\" + slave + \" java -jar /tmp/root/job.jar 2 \");\n",
        "\n",
        "        // Apply health checker\n",
        "        List<Boolean> returnValue = Utils.launch_actions_with_return(health_checks);\n",
        "\n",
        "        // Check all machine are alive and deploy jar\n",
        "        boolean isNodesOk = returnValue.stream().allMatch(x -> x);\n",
        "        if (isNodesOk) {\n",
        "            Utils.launch_actions_without_return(create_dirs);\n",
        "\n",
        "            // wait for directories creation and check the creation\n",
        "            Thread.sleep(3000);\n",
        "            returnValue = Utils.launch_actions_with_return(check_dir);\n",
        "\n",
        "            // if all directories are created, deploy jar file\n",
        "            if (returnValue.stream().allMatch(x -> x)) {\n",
        "                Utils.launch_actions_without_return(run_copy);\n",
        "            } else {\n",
        "                System.out.println(\"Something went wrong during the directories creation\");\n",
        "            }\n",
        "        } else {\n",
        "            System.out.println(\"Not all nodes are safe, please check connection\");\n",
        "        }\n",
        "    }\n",
        "}"
      ]
    },
    {
      "cell_type": "code",
      "execution_count": null,
      "metadata": {
        "id": "2lyDUpHO0vJ7",
        "outputId": "cb09a850-6c2a-4ce0-bdbd-1bcbe9d0ac9e",
        "vscode": {
          "languageId": "java"
        }
      },
      "outputs": [
        {
          "name": "stdout",
          "output_type": "stream",
          "text": [
            "worker-1\n",
            "worker-3\n",
            "worker-2\n",
            "ssh root@worker-1 if test ! -d /tmp/root/splits; then mkdir -p /tmp/root/splits; fi\n",
            "ssh root@worker-2 if test ! -d /tmp/root/splits; then mkdir -p /tmp/root/splits; fi\n",
            "ssh root@worker-3 if test ! -d /tmp/root/splits; then mkdir -p /tmp/root/splits; fi\n",
            "Warning: Permanently added 'worker-1,172.21.0.3' (ECDSA) to the list of known hosts.\n",
            "bash: warning: setlocale: LC_ALL: cannot change locale (en_US.UTF-8)\n",
            "Warning: Permanently added 'worker-2,172.21.0.4' (ECDSA) to the list of known hosts.\n",
            "bash: warning: setlocale: LC_ALL: cannot change locale (en_US.UTF-8)\n",
            "Warning: Permanently added 'worker-3,172.21.0.2' (ECDSA) to the list of known hosts.\n",
            "bash: warning: setlocale: LC_ALL: cannot change locale (en_US.UTF-8)\n",
            "Warning: Permanently added 'worker-1,172.21.0.3' (ECDSA) to the list of known hosts.\n",
            "bash: warning: setlocale: LC_ALL: cannot change locale (en_US.UTF-8)\n",
            "Warning: Permanently added 'worker-3,172.21.0.2' (ECDSA) to the list of known hosts.\n",
            "bash: warning: setlocale: LC_ALL: cannot change locale (en_US.UTF-8)\n",
            "Warning: Permanently added 'worker-2,172.21.0.4' (ECDSA) to the list of known hosts.\n",
            "bash: warning: setlocale: LC_ALL: cannot change locale (en_US.UTF-8)\n",
            "scp -r /tmp/root/splits/S0.txt root@worker-1:/tmp/root/splits\n",
            "scp -r /tmp/root/splits/S1.txt root@worker-2:/tmp/root/splits\n",
            "scp -r /tmp/root/splits/S2.txt root@worker-3:/tmp/root/splits\n",
            "Warning: Permanently added 'worker-1,172.21.0.3' (ECDSA) to the list of known hosts.\n",
            "bash: warning: setlocale: LC_ALL: cannot change locale (en_US.UTF-8)\n",
            "Warning: Permanently added 'worker-2,172.21.0.4' (ECDSA) to the list of known hosts.\n",
            "bash: warning: setlocale: LC_ALL: cannot change locale (en_US.UTF-8)\n",
            "Warning: Permanently added 'worker-3,172.21.0.2' (ECDSA) to the list of known hosts.\n",
            "bash: warning: setlocale: LC_ALL: cannot change locale (en_US.UTF-8)\n"
          ]
        }
      ],
      "source": [
        "String[] args = {\"data/hostnames.txt\", \"/tmp/root/splits\", \"/tmp/root/splits\"};\n",
        "\n",
        "Master.main(args);"
      ]
    },
    {
      "cell_type": "markdown",
      "metadata": {
        "id": "Pq2rtJTA0vJ8"
      },
      "source": [
        "Les fichiers sont maintenants présents sur les machines. Vous pouvez vérifier en vous connectant via la ligne de commande du jupyter notebook :\n",
        "\n",
        "```sh\n",
        "ssh root@worker-[1-2-3]\n",
        "```"
      ]
    },
    {
      "cell_type": "markdown",
      "metadata": {
        "id": "QPutQEMN0vJ8"
      },
      "source": [
        "__2. A SLAVE that does the map phase\n",
        "\n",
        "Modify the SLAVE so that it calculates a map from a split.\n",
        "\n",
        "To do this, it takes an operating mode as an argument: 0 corresponds to the calculation of the map from a split, then a file name “Sx.txt” as input from the splits folder and calculates a file “UMx.txt” output in the maps folder, with x varying (here from 1 to 3). As before, the maps folder must be created before you can write files to it. You must wait for the maps folder to be created before working with it. How do you wait for the maps folder to be well created before working with it?\n",
        "\n",
        "The name of the file will be given as the args argument of the main:public static void main(String[] args)Test in a terminal the slave.jar as follows:\n",
        "```sh\n",
        "cd /tmp/<your username>/java -jar slave.jar 0 /tmp/<your username>/splits/S0.txt\n",
        "```\n",
        "\n",
        "File `/tmp/<your username>/maps/UM0.txt` should be created containing\n",
        "- Dear 1\n",
        "- Beer 1\n",
        "-River 1\n",
        "\n",
        "Test the operation of your SLAVE with the S1.txt file containing: `Car Car River`\n",
        "\n",
        ">Ask yourself the question: why do we find two lines\n",
        "Car 1\n",
        "Car 1\n",
        "Instead of a single line\n",
        "Because 2?\n",
        "A hint: the reduce phase which will arrive later, will make an addition of the values. In this case, the \"function\" of reduce is very simple: it is a large addition. Imagine a much more complex reduce function that performs a complex algorithm applied to all values..."
      ]
    },
    {
      "cell_type": "code",
      "execution_count": null,
      "metadata": {
        "id": "hugLc0nz0vJ8",
        "vscode": {
          "languageId": "java"
        }
      },
      "outputs": [],
      "source": [
        "import java.io.File;\n",
        "import java.io.IOException;\n",
        "import java.util.*;\n",
        "import java.util.Map.Entry;\n",
        "import java.net.InetAddress;\n",
        "\n",
        "import static java.util.stream.Collectors.*;\n",
        "\n",
        "public class Slave{\n",
        "\n",
        "    private static ArrayList<String> transform_key_value(String filename){\n",
        "        // Function for the question 1\n",
        "        ArrayList<String> lines = Utils.read_file(filename);\n",
        "        assert lines != null;\n",
        "        ArrayList<String[]> lines_tokenized = Utils.tokenize(lines);\n",
        "        ArrayList<String> words_count = new ArrayList<>();\n",
        "\n",
        "        for (String[] line_tokenized: lines_tokenized) {\n",
        "            for (String word:line_tokenized) {\n",
        "                if (!word.isEmpty()){\n",
        "                    words_count.add(word + \" 1.0\");\n",
        "                }\n",
        "            }\n",
        "        }\n",
        "        return words_count;\n",
        "    }\n",
        "\n",
        "    private static HashMap<String, Double> words_count(String filename){\n",
        "        // Function for the question 1\n",
        "        ArrayList<String> lines = Utils.read_file(filename);\n",
        "        assert lines != null;\n",
        "        ArrayList<String[]> lines_tokenized = Utils.tokenize(lines);\n",
        "        HashMap<String, Double> words_count = new HashMap<>();\n",
        "\n",
        "        for (String[] line_tokenized: lines_tokenized) {\n",
        "            String word = line_tokenized[0];\n",
        "            if (!word.isEmpty()){\n",
        "                if (words_count.get(word) == null) {\n",
        "                    words_count.put(word, 1.0);\n",
        "                } else {\n",
        "                    words_count.put(word, words_count.get(word)+1);\n",
        "                }\n",
        "            }\n",
        "        }\n",
        "        return words_count;\n",
        "    }\n",
        "\n",
        "    public static HashMap<String, Double> sorted_map_by_numeric_value(HashMap<String, Double> hash_map){\n",
        "        // Function for question 2\n",
        "        return hash_map\n",
        "                .entrySet()\n",
        "                .stream()\n",
        "                .sorted(Collections.reverseOrder(Entry.comparingByValue()))\n",
        "                .collect(toMap(Entry::getKey, Entry::getValue, (e1, e2) -> e2,\n",
        "                        LinkedHashMap::new));\n",
        "    }\n",
        "\n",
        "    public static HashMap<String, Double> sort(HashMap<String, Double> hash_map){\n",
        "        // Function for question 3\n",
        "        return hash_map\n",
        "                .entrySet()\n",
        "                .stream()\n",
        "                .sorted(new Comparator<Entry<String, Double>>() {\n",
        "                    @Override\n",
        "                    public int compare(Entry<String, Double> e1, Entry<String, Double> e2) {\n",
        "                        if (e1.getValue().equals(e2.getValue())) {\n",
        "                            return e1.getKey().compareTo(e2.getKey());\n",
        "                        } else {\n",
        "                            return e2.getValue().compareTo(e1.getValue());\n",
        "                        }\n",
        "                    }\n",
        "                }).collect(toMap(Entry::getKey, Entry::getValue, (e1, e2) -> e1,\n",
        "                        LinkedHashMap::new));\n",
        "    }\n",
        "\n",
        "    public static void print_map(Map<String, Double> hash_map) {\n",
        "        for (Entry<String, Double> el:hash_map.entrySet()) {\n",
        "            System.out.println(el.getKey() + \" \" + el.getValue());\n",
        "        }\n",
        "    }\n",
        "\n",
        "    public static void print_map(Map<String, Double> hash_map, Integer n) {\n",
        "        Integer count = 0;\n",
        "        for (Entry<String, Double> el:hash_map.entrySet()) {\n",
        "            if(count.equals(n)){\n",
        "                break;\n",
        "            } else {\n",
        "                System.out.println(el.getKey() + \" \" + el.getValue());\n",
        "                count++;\n",
        "            }\n",
        "        }\n",
        "    }\n",
        "\n",
        "    private static void map(String src_file, String map_file) throws IOException {\n",
        "        ArrayList<String> words_count = Slave.transform_key_value(src_file);\n",
        "        Utils.write_file(words_count, map_file, \"a\");\n",
        "    }\n",
        "\n",
        "    private static void shuffle(String file, ArrayList<String> hostnames) throws IOException, InterruptedException {\n",
        "        String current_host = InetAddress.getLocalHost().getHostName();\n",
        "        int nb_slaves = hostnames.size();\n",
        "\n",
        "        ArrayList<String[]> keys_values = Utils.tokenize(Objects.requireNonNull(Utils.read_file(file)));\n",
        "        for (String[] key_value:keys_values){\n",
        "            int hash_key = key_value[0].hashCode();\n",
        "            int compute_slave = hash_key%nb_slaves;\n",
        "            if (!hostnames.get(compute_slave).equals(current_host)){\n",
        "                File shuffle_file = new File (\"/tmp/root/shuffle\" + \"/\" + String.format(\"%d_%d_%d.txt\",\n",
        "                                                                                            hash_key,\n",
        "                                                                                            compute_slave,\n",
        "                                                                                            current_host.hashCode()));\n",
        "                Utils.write_file(Collections.singletonList(key_value[0] + \" \" + key_value[1]),\n",
        "                        shuffle_file.toString(),\n",
        "                        \"a\");\n",
        "                Deploy.deploy(Collections.singletonList(hostnames.get(compute_slave)),\n",
        "                        shuffle_file.toString(), \"/tmp/root/shuffle\");\n",
        "                shuffle_file.delete();\n",
        "            } else {\n",
        "                File shuffle_file = new File (\"/tmp/root/shuffle\" + \"/\" + hash_key + \"_\" + compute_slave + \".txt\");\n",
        "                Utils.write_file(Collections.singletonList(key_value[0] + \" \" + key_value[1]),\n",
        "                         shuffle_file.toString(),\n",
        "                        \"a\");\n",
        "            }\n",
        "        }\n",
        "    }\n",
        "\n",
        "    private static void reduce(String reduce_directory, String shuffle_directory) throws IOException {\n",
        "        List<String> files = Utils.list_directory(shuffle_directory);\n",
        "        HashMap<String, Double> words_count = new HashMap<>();\n",
        "\n",
        "        for (String file:files) {\n",
        "            words_count(file).forEach(\n",
        "                    (key, value) -> words_count.merge(key, value, Double::sum)\n",
        "            );\n",
        "        }\n",
        "        for (Entry<String, Double> key_value:words_count.entrySet()){\n",
        "            int hash = key_value.getKey().hashCode();\n",
        "            File reduce_file = new File(reduce_directory + \"/\" + hash + \".txt\");\n",
        "            Utils.write_file(Collections.singletonList(key_value.getKey() + \" \" + key_value.getValue()),\n",
        "                                                    reduce_file.toString(), \"w\");\n",
        "        }\n",
        "    }\n",
        "\n",
        "    public static void main(String[] args) throws IOException, InterruptedException {\n",
        "        if (args[0].equals(\"0\")){\n",
        "            File split_file = new File(args[1]);\n",
        "            String num = args[1].replaceAll(\"[^\\\\d]\", \"\");\n",
        "            File map_directory = new File(new File(split_file.getParent()).getParent() + \"/maps\");\n",
        "            if (!map_directory.exists()){\n",
        "                boolean result = map_directory.mkdir();\n",
        "                if (!result){\n",
        "                    System.out.println(\"Something goes wrong when creating maps folder\");\n",
        "                } else {\n",
        "                    map(split_file.toString(), map_directory + \"/UM\" + num + \".txt\");\n",
        "                }\n",
        "            } else {\n",
        "                map(split_file.toString(), map_directory + \"/UM\" + num + \".txt\");\n",
        "            }\n",
        "        } else if (args[0].equals(\"1\")){\n",
        "            ArrayList<String> hostnames = Utils.read_file(\"/tmp/root/hostnames.txt\");\n",
        "            ArrayList<String> health_checks = new ArrayList<>();\n",
        "            assert hostnames != null;\n",
        "            for (String hostname : hostnames)\n",
        "                health_checks.add(\"ssh -o StrictHostKeyChecking=no root@\" + hostname + \" hostname\");\n",
        "            File shuffle_directory = new File(\"/tmp/root/shuffle\");\n",
        "            if (!shuffle_directory.exists()){\n",
        "                boolean result = shuffle_directory.mkdir();\n",
        "                if (!result){\n",
        "                    System.out.println(\"Something goes wrong when creating shuffle folder\");\n",
        "                } else {\n",
        "                    for (String file: Utils.list_directory(\"/tmp/root/maps\")){\n",
        "                        shuffle(file, hostnames);\n",
        "                    }\n",
        "                }\n",
        "            } else {\n",
        "                for (String file: Utils.list_directory(\"/tmp/root/maps\")){\n",
        "                    shuffle(file, hostnames);\n",
        "                }\n",
        "            }\n",
        "        } else if (args[0].equals(\"2\")){\n",
        "            File reduce_directory = new File(\"/tmp/root/reduce\");\n",
        "            File shuffle_directory = new File(\"/tmp/root/shuffle\");\n",
        "            if (!reduce_directory.exists()){\n",
        "                boolean result = reduce_directory.mkdir();\n",
        "                if (!result){\n",
        "                    System.out.println(\"Something goes wrong when creating reduce folder\");\n",
        "                } else {\n",
        "                    reduce(reduce_directory.toString(), shuffle_directory.toString());\n",
        "                }\n",
        "            } else {\n",
        "                reduce(reduce_directory.toString(), shuffle_directory.toString());\n",
        "            }\n",
        "        }\n",
        "\n",
        "    }\n",
        "}"
      ]
    },
    {
      "cell_type": "markdown",
      "metadata": {
        "id": "dWPfYHj_0vJ9"
      },
      "source": [
        "Below is the `Slave` class used to launch the different stages of the mapreduce. The job.jar jar is generated from this class. Let's run the phase on the `master` server to understand how it works."
      ]
    },
    {
      "cell_type": "code",
      "execution_count": null,
      "metadata": {
        "id": "IEJWLGkf0vJ9",
        "vscode": {
          "languageId": "java"
        }
      },
      "outputs": [],
      "source": [
        "String[] files = {\"S0.txt\", \"S1.txt\", \"S2.txt\"};\n",
        "\n",
        "for (String file:files){\n",
        "    String[] args = {\"0\", String.format(\"/tmp/root/splits/%s\",file)};\n",
        "    Slave.main(args);\n",
        "}"
      ]
    },
    {
      "cell_type": "markdown",
      "metadata": {
        "id": "3Q4ffv5s0vJ9"
      },
      "source": [
        "Via the jupyterlab command line, you can check the `/tmp/root/maps` folder which contains the created files and examine them to fully understand the process."
      ]
    },
    {
      "cell_type": "markdown",
      "metadata": {
        "id": "GcToEHn80vJ9"
      },
      "source": [
        "__3. A MASTER who launches the SLAVE for the map phase.__\n",
        "\n",
        "Modify the MASTER so that it launches the map phase on several machines and displays “MAP FINISHED”. For this you will use the previously created file which contains the list of machines you want to use for your project.\n",
        "\n",
        "To properly synchronize the MASTER with the SLAVES, make sure to display “MAP FINISHED” only once all the SLAVEs have finished and only when all the SLAVEs have finished, NOT BEFORE! The MASTER must therefore wait for SLAVEs to terminate correctly.\n",
        "How do you make a process launched with ProcessBuilder in Java wait for the process to finish executing?\n",
        "Does your MASTER program launch the SLAVEs sequentially (one after the other) or in parallel?"
      ]
    },
    {
      "cell_type": "code",
      "execution_count": null,
      "metadata": {
        "id": "LN662YzH0vJ9",
        "vscode": {
          "languageId": "java"
        }
      },
      "outputs": [],
      "source": [
        "import java.util.*;\n",
        "\n",
        "public class Master {\n",
        "    public static void main(String[] args) throws InterruptedException {\n",
        "        ArrayList<String> hostnames = Utils.read_file(args[0]);\n",
        "        Set<String> slaves = new HashSet<>();\n",
        "        List<String> files = Utils.list_directory(args[1]);\n",
        "        ArrayList<String> health_checks = new ArrayList<>();\n",
        "        ArrayList<String> create_dirs = new ArrayList<>();\n",
        "        ArrayList<String> check_dir = new ArrayList<>();\n",
        "        ArrayList<String> run_copy = new ArrayList<>();\n",
        "        ArrayList<String> run_map = new ArrayList<>();\n",
        "        ArrayList<String> run_shuffle = new ArrayList<>();\n",
        "        ArrayList<String> run_reduce = new ArrayList<>();\n",
        "        ArrayList<String> copy_hostnames_file = new ArrayList<>();\n",
        "        Random rand = new Random();\n",
        "\n",
        "        for (String file:files){\n",
        "            assert hostnames != null;\n",
        "            String slave = hostnames.get(rand.nextInt(hostnames.size()));\n",
        "            slaves.add(slave);\n",
        "            health_checks.add(\"ssh -o StrictHostKeyChecking=no root@\" + slave + \" hostname\");\n",
        "            create_dirs.add(\"ssh root@\" + slave + \" if test ! -d \" + args[2] + \"; then mkdir -p \" + args[2] + \"; fi\");\n",
        "            run_copy.add(\"scp -r \" + file + \" root@\" + slave + \":\" + args[2]);\n",
        "            check_dir.add(\"ssh root@\" + slave + \" ls \" + args[2]);\n",
        "            run_map.add(\"ssh root@\" + slave + \" java -jar /tmp/root/job.jar 0 \" + file);\n",
        "            copy_hostnames_file.add(\"scp \" + args[0] + \" root@\" + slave + \":/tmp/root\");\n",
        "\n",
        "        }\n",
        "        for (String slave:slaves)\n",
        "            run_shuffle.add(\"ssh root@\" + slave + \" java -jar /tmp/root/job.jar 1 \");\n",
        "\n",
        "        assert hostnames != null;\n",
        "        for (String slave:hostnames)\n",
        "            run_reduce.add(\"ssh root@\" + slave + \" java -jar /tmp/root/job.jar 2 \");\n",
        "\n",
        "        // Apply health checker\n",
        "        List<Boolean> returnValue = Utils.launch_actions_with_return(health_checks);\n",
        "\n",
        "        // Check all machine are alive and deploy jar\n",
        "        boolean isNodesOk = returnValue.stream().allMatch(x -> x);\n",
        "        if (isNodesOk) {\n",
        "            Utils.launch_actions_without_return(create_dirs);\n",
        "\n",
        "            // wait for directories creation and check the creation\n",
        "            Thread.sleep(3000);\n",
        "            returnValue = Utils.launch_actions_with_return(check_dir);\n",
        "\n",
        "            // if all directories are created, deploy jar file\n",
        "            if (returnValue.stream().allMatch(x -> x)) {\n",
        "                Utils.launch_actions_without_return(run_copy);\n",
        "            } else {\n",
        "                System.out.println(\"Something went wrong during the directories creation\");\n",
        "            }\n",
        "        } else {\n",
        "            System.out.println(\"Not all nodes are safe, please check connection\");\n",
        "        }\n",
        "\n",
        "        // Map\n",
        "        double start_map_time = System.currentTimeMillis();\n",
        "        Deploy.deploy(hostnames,\n",
        "                \"jar/job.jar\", \"/tmp/root/\");\n",
        "        Utils.launch_actions_without_return(run_map);\n",
        "        System.out.println(\"MAP FINISHED\");\n",
        "        double end_map_time = System.currentTimeMillis();\n",
        "        double total_map_time = end_map_time - start_map_time;\n",
        "        System.out.println(String.format(\"map time: %f\", total_map_time/1000));\n",
        "    }\n",
        "}"
      ]
    },
    {
      "cell_type": "code",
      "execution_count": null,
      "metadata": {
        "id": "sCdU6K7S0vJ-",
        "outputId": "51438308-9ce5-418f-f1eb-724ef633cf46",
        "vscode": {
          "languageId": "java"
        }
      },
      "outputs": [
        {
          "name": "stdout",
          "output_type": "stream",
          "text": [
            "worker-3\n",
            "worker-3\n",
            "Warning: Permanently added 'worker-2,172.21.0.4' (ECDSA) to the list of known hosts.\n",
            "bash: warning: setlocale: LC_ALL: cannot change locale (en_US.UTF-8)\n",
            "ssh root@worker-2 if test ! -d /tmp/root/splits; then mkdir -p /tmp/root/splits; fi\n",
            "ssh root@worker-3 if test ! -d /tmp/root/splits; then mkdir -p /tmp/root/splits; fi\n",
            "ssh root@worker-3 if test ! -d /tmp/root/splits; then mkdir -p /tmp/root/splits; fi\n",
            "Warning: Permanently added 'worker-3,172.21.0.2' (ECDSA) to the list of known hosts.\n",
            "bash: warning: setlocale: LC_ALL: cannot change locale (en_US.UTF-8)\n",
            "Warning: Permanently added 'worker-2,172.21.0.4' (ECDSA) to the list of known hosts.\n",
            "bash: warning: setlocale: LC_ALL: cannot change locale (en_US.UTF-8)\n",
            "Warning: Permanently added 'worker-3,172.21.0.2' (ECDSA) to the list of known hosts.\n",
            "bash: warning: setlocale: LC_ALL: cannot change locale (en_US.UTF-8)\n",
            "S1.txt\n",
            "S2.txt\n",
            "S2.txt\n",
            "scp -r /tmp/root/splits/S0.txt root@worker-2:/tmp/root/splits\n",
            "scp -r /tmp/root/splits/S1.txt root@worker-3:/tmp/root/splits\n",
            "scp -r /tmp/root/splits/S2.txt root@worker-3:/tmp/root/splits\n",
            "Warning: Permanently added 'worker-3,172.21.0.2' (ECDSA) to the list of known hosts.\n",
            "Warning: Permanently added 'worker-2,172.21.0.4' (ECDSA) to the list of known hosts.\n",
            "bash: warning: setlocale: LC_ALL: cannot change locale (en_US.UTF-8)\n",
            "bash: warning: setlocale: LC_ALL: cannot change locale (en_US.UTF-8)\n",
            "Warning: Permanently added 'worker-3,172.21.0.2' (ECDSA) to the list of known hosts.\n",
            "bash: warning: setlocale: LC_ALL: cannot change locale (en_US.UTF-8)\n",
            "worker-1\n",
            "worker-3\n",
            "worker-2\n",
            "ssh root@worker-1 if test ! -d /tmp/root/; then mkdir -p /tmp/root/; fi\n",
            "ssh root@worker-2 if test ! -d /tmp/root/; then mkdir -p /tmp/root/; fi\n",
            "ssh root@worker-3 if test ! -d /tmp/root/; then mkdir -p /tmp/root/; fi\n",
            "Warning: Permanently added 'worker-1,172.21.0.3' (ECDSA) to the list of known hosts.\n",
            "bash: warning: setlocale: LC_ALL: cannot change locale (en_US.UTF-8)\n",
            "Warning: Permanently added 'worker-3,172.21.0.2' (ECDSA) to the list of known hosts.\n",
            "bash: warning: setlocale: LC_ALL: cannot change locale (en_US.UTF-8)\n",
            "Warning: Permanently added 'worker-2,172.21.0.4' (ECDSA) to the list of known hosts.\n",
            "bash: warning: setlocale: LC_ALL: cannot change locale (en_US.UTF-8)\n",
            "splits\n",
            "splits\n",
            "splits\n",
            "scp -r jar/job.jar root@worker-1:/tmp/root/\n",
            "scp -r jar/job.jar root@worker-2:/tmp/root/\n",
            "scp -r jar/job.jar root@worker-3:/tmp/root/\n",
            "Warning: Permanently added 'worker-1,172.21.0.3' (ECDSA) to the list of known hosts.\n",
            "bash: warning: setlocale: LC_ALL: cannot change locale (en_US.UTF-8)\n",
            "Warning: Permanently added 'worker-2,172.21.0.4' (ECDSA) to the list of known hosts.\n",
            "bash: warning: setlocale: LC_ALL: cannot change locale (en_US.UTF-8)\n",
            "Warning: Permanently added 'worker-3,172.21.0.2' (ECDSA) to the list of known hosts.\n",
            "bash: warning: setlocale: LC_ALL: cannot change locale (en_US.UTF-8)\n",
            "ssh root@worker-2 java -jar /tmp/root/job.jar 0 /tmp/root/splits/S0.txt\n",
            "ssh root@worker-3 java -jar /tmp/root/job.jar 0 /tmp/root/splits/S1.txt\n",
            "ssh root@worker-3 java -jar /tmp/root/job.jar 0 /tmp/root/splits/S2.txt\n",
            "Something goes wrong when creating maps folder\n",
            "Warning: Permanently added 'worker-2,172.21.0.4' (ECDSA) to the list of known hosts.\n",
            "bash: warning: setlocale: LC_ALL: cannot change locale (en_US.UTF-8)\n",
            "Warning: Permanently added 'worker-3,172.21.0.2' (ECDSA) to the list of known hosts.\n",
            "bash: warning: setlocale: LC_ALL: cannot change locale (en_US.UTF-8)\n",
            "MAP FINISHED\n",
            "map time: 4.072000\n"
          ]
        }
      ],
      "source": [
        "String[] args = {\"data/hostnames.txt\", \"/tmp/root/splits\", \"/tmp/root/splits\"};\n",
        "\n",
        "Master.main(args);"
      ]
    },
    {
      "cell_type": "markdown",
      "metadata": {
        "id": "yi2TpXNc0vJ-"
      },
      "source": [
        "The files are now present on the machines, in the `/tmp/root/maps` folder. You can check by connecting via the command line of the jupyter notebook:\n",
        "\n",
        "```sh\n",
        "ssh root@worker-[1-2-3]\n",
        "```"
      ]
    },
    {
      "cell_type": "markdown",
      "metadata": {
        "id": "fBmJoG450vJ-"
      },
      "source": [
        "### <font color=\"red\">Step 11</font> : SHUFFLE."
      ]
    },
    {
      "cell_type": "markdown",
      "metadata": {
        "id": "2_hEJs3S0vJ-"
      },
      "source": [
        "__1. The MASTER that prepares the SLAVEs for the shuffle phase.__\n",
        "\n",
        "Modify the MASTER so that it sends the previously created file which contains the list of machines you want to use for your project to all the SLAVES used for the map phase. Copy this file to the following target for all SLAVES:\n",
        "`/tmp/<your username>/machines.txt`"
      ]
    },
    {
      "cell_type": "code",
      "execution_count": null,
      "metadata": {
        "id": "HaikEOkW0vJ-",
        "vscode": {
          "languageId": "java"
        }
      },
      "outputs": [],
      "source": [
        "import java.util.*;\n",
        "\n",
        "public class Master {\n",
        "    public static void main(String[] args) throws InterruptedException {\n",
        "        ArrayList<String> hostnames = Utils.read_file(args[0]);\n",
        "        Set<String> slaves = new HashSet<>();\n",
        "        List<String> files = Utils.list_directory(args[1]);\n",
        "        ArrayList<String> health_checks = new ArrayList<>();\n",
        "        ArrayList<String> create_dirs = new ArrayList<>();\n",
        "        ArrayList<String> check_dir = new ArrayList<>();\n",
        "        ArrayList<String> run_copy = new ArrayList<>();\n",
        "        ArrayList<String> run_map = new ArrayList<>();\n",
        "        ArrayList<String> run_shuffle = new ArrayList<>();\n",
        "        ArrayList<String> run_reduce = new ArrayList<>();\n",
        "        ArrayList<String> copy_hostnames_file = new ArrayList<>();\n",
        "        Random rand = new Random();\n",
        "\n",
        "        for (String file:files){\n",
        "            assert hostnames != null;\n",
        "            String slave = hostnames.get(rand.nextInt(hostnames.size()));\n",
        "            slaves.add(slave);\n",
        "            health_checks.add(\"ssh -o StrictHostKeyChecking=no root@\" + slave + \" hostname\");\n",
        "            create_dirs.add(\"ssh root@\" + slave + \" if test ! -d \" + args[2] + \"; then mkdir -p \" + args[2] + \"; fi\");\n",
        "            run_copy.add(\"scp -r \" + file + \" root@\" + slave + \":\" + args[2]);\n",
        "            check_dir.add(\"ssh root@\" + slave + \" ls \" + args[2]);\n",
        "            run_map.add(\"ssh root@\" + slave + \" java -jar /tmp/root/job.jar 0 \" + file);\n",
        "            copy_hostnames_file.add(\"scp \" + args[0] + \" root@\" + slave + \":/tmp/root\");\n",
        "\n",
        "        }\n",
        "        for (String slave:slaves)\n",
        "            run_shuffle.add(\"ssh root@\" + slave + \" java -jar /tmp/root/job.jar 1 \");\n",
        "\n",
        "        assert hostnames != null;\n",
        "        for (String slave:hostnames)\n",
        "            run_reduce.add(\"ssh root@\" + slave + \" java -jar /tmp/root/job.jar 2 \");\n",
        "\n",
        "        // Apply health checker\n",
        "        List<Boolean> returnValue = Utils.launch_actions_with_return(health_checks);\n",
        "\n",
        "        // Check all machine are alive and deploy jar\n",
        "        boolean isNodesOk = returnValue.stream().allMatch(x -> x);\n",
        "        if (isNodesOk) {\n",
        "            Utils.launch_actions_without_return(create_dirs);\n",
        "\n",
        "            // wait for directories creation and check the creation\n",
        "            Thread.sleep(3000);\n",
        "            returnValue = Utils.launch_actions_with_return(check_dir);\n",
        "\n",
        "            // if all directories are created, deploy jar file\n",
        "            if (returnValue.stream().allMatch(x -> x)) {\n",
        "                Utils.launch_actions_without_return(run_copy);\n",
        "            } else {\n",
        "                System.out.println(\"Something went wrong during the directories creation\");\n",
        "            }\n",
        "        } else {\n",
        "            System.out.println(\"Not all nodes are safe, please check connection\");\n",
        "        }\n",
        "\n",
        "        // Map\n",
        "        double start_map_time = System.currentTimeMillis();\n",
        "        Deploy.deploy(hostnames,\n",
        "                \"jar/job.jar\", \"/tmp/root/\");\n",
        "        Utils.launch_actions_without_return(run_map);\n",
        "        System.out.println(\"MAP FINISHED\");\n",
        "        double end_map_time = System.currentTimeMillis();\n",
        "        double total_map_time = end_map_time - start_map_time;\n",
        "        System.out.println(String.format(\"map time: %f\", total_map_time/1000));\n",
        "\n",
        "        // copy hostnames file\n",
        "        Utils.launch_actions_without_return(copy_hostnames_file);\n",
        "    }\n",
        "}"
      ]
    },
    {
      "cell_type": "markdown",
      "metadata": {
        "id": "AQVn-aZu0vJ_"
      },
      "source": [
        "__2. The SLAVE that prepares the shuffle phase.__\n",
        "\n",
        "Modify the SLAVE so that it prepares for the shuffle phase by grouping the keys, calculating the “hash” for each of the keys and creating a file named <hash>-<hostname>.txt in the shuffles folder. As before, the shuffles folder must be created before you can write files to it. You must wait for the shuffles folder to be created before working with it. How do you wait for the shuffles folder to be successfully created before working with it?\n",
        "The name of the file will be given as the args argument of the main:public static void main (String[] args)\n",
        "\n",
        "Warning: if the <hash>-<hostname>.txt file already exists, do not overwrite it but rather continue writing in it.\n",
        "This file name corresponds to the hash, obtained using the hash function of the String class, explanations here https://fr.wikipedia.org/wiki/Java_hashCode()#La_fonction_de_hachage_de_la_classe_java.lang.String , calculated from the key ; The name of the machine is obtained using the following java instruction: java.net.InetAddress.getLocalHost().getHostName()\n",
        "\n",
        "For this, your SLAVE takes an operating mode as argument: 1 , which corresponds to the calculation of the hash , then a file name “UMx.txt” as input from the maps folder and calculates a file “<hash>-<hostname> .txt” output to the shuffles folder. Keep the previous mode: 0 for the map phase.\n",
        "\n",
        "Test the operation of your SLAVE with the UM1.txt file containing\n",
        "    - Car 1\n",
        "    - Car 1\n",
        "    -River 1\n",
        "Test in a terminal the JAR as follows:\n",
        "    \n",
        "```sh\n",
        "cd /tmp/<your username>/java -jar slave.jar 1 /tmp/<your username>/maps/UM1.txt\n",
        "```\n",
        "    \n",
        "The following files must be created:\n",
        "\n",
        "`/tmp/<your username>/shuffles/67508-c127-12.txt` created containing\n",
        "- Car 1\n",
        "- Car 1\n",
        "\n",
        "`/tmp/<your username>/shuffles/78973420-c127-12.txt` created containing\n",
        "-River 1"
      ]
    },
    {
      "cell_type": "markdown",
      "metadata": {
        "id": "kpmemExN0vJ_"
      },
      "source": [
        "__3. The SLAVE that performs the shuffle phase.__\n",
        "\n",
        "Modify the SLAVE to perform the shuffle phase.\n",
        "\n",
        "To do this, for each key calculated during the map, in addition to creating the file in the shuffles folder, you must send this file to the shufflesreceived folder of one of the machines in the file `/tmp/<your username>/ machines.txt`\n",
        "\n",
        "To know which machine to send it to, we use the hash calculated from the key (an integer value) and the number of machines in the file. It suffices to calculate the hash modulo the number of machine by considering that the first machine of the file has for number 0, the second 1 etc... The formula used to find the machine on which the shuffle will be sent will therefore be `numeroMachine = hash % nbMachines`"
      ]
    },
    {
      "cell_type": "markdown",
      "metadata": {
        "id": "N7Bx4CKv0vJ_"
      },
      "source": [
        "__Enable python3 kernel__"
      ]
    },
    {
      "cell_type": "code",
      "execution_count": null,
      "metadata": {
        "id": "CneGeaCK0vJ_",
        "vscode": {
          "languageId": "java"
        }
      },
      "outputs": [],
      "source": [
        "!cp data/hostnames.txt /tmp/root"
      ]
    },
    {
      "cell_type": "markdown",
      "metadata": {
        "id": "4jEc7h9R0vJ_"
      },
      "source": [
        "__Enable the java kernel and recompile the classes (Slaves, Master, Deploy, Clean and Utils)__"
      ]
    },
    {
      "cell_type": "markdown",
      "metadata": {
        "id": "Pv5-eVIN0vJ_"
      },
      "source": [
        "Let's take the `Slave` class already implemented previously and change its input parameters. Implementations of part __2__ and __3__ are already developed."
      ]
    },
    {
      "cell_type": "code",
      "execution_count": null,
      "metadata": {
        "id": "PzkGYOCt0vJ_",
        "outputId": "8df18a17-7a80-4893-9a33-6f270c14dab0",
        "vscode": {
          "languageId": "java"
        }
      },
      "outputs": [
        {
          "name": "stdout",
          "output_type": "stream",
          "text": [
            "worker-3\n",
            "ssh root@worker-3 if test ! -d /tmp/root/shuffle; then mkdir -p /tmp/root/shuffle; fi\n",
            "Warning: Permanently added 'worker-3,172.21.0.2' (ECDSA) to the list of known hosts.\n",
            "bash: warning: setlocale: LC_ALL: cannot change locale (en_US.UTF-8)\n",
            "job.jar\n",
            "maps\n",
            "shuffle\n",
            "splits\n",
            "scp -r /tmp/root/shuffle/3079406_2_-1081267614.txt root@worker-3:/tmp/root/shuffle\n",
            "Warning: Permanently added 'worker-3,172.21.0.2' (ECDSA) to the list of known hosts.\n",
            "bash: warning: setlocale: LC_ALL: cannot change locale (en_US.UTF-8)\n",
            "worker-1\n",
            "ssh root@worker-1 if test ! -d /tmp/root/shuffle; then mkdir -p /tmp/root/shuffle; fi\n",
            "Warning: Permanently added 'worker-1,172.21.0.3' (ECDSA) to the list of known hosts.\n",
            "bash: warning: setlocale: LC_ALL: cannot change locale (en_US.UTF-8)\n",
            "job.jar\n",
            "shuffle\n",
            "splits\n",
            "scp -r /tmp/root/shuffle/3019824_0_-1081267614.txt root@worker-1:/tmp/root/shuffle\n",
            "Warning: Permanently added 'worker-1,172.21.0.3' (ECDSA) to the list of known hosts.\n",
            "bash: warning: setlocale: LC_ALL: cannot change locale (en_US.UTF-8)\n",
            "worker-1\n",
            "ssh root@worker-1 if test ! -d /tmp/root/shuffle; then mkdir -p /tmp/root/shuffle; fi\n",
            "Warning: Permanently added 'worker-1,172.21.0.3' (ECDSA) to the list of known hosts.\n",
            "bash: warning: setlocale: LC_ALL: cannot change locale (en_US.UTF-8)\n",
            "job.jar\n",
            "shuffle\n",
            "splits\n",
            "scp -r /tmp/root/shuffle/108526092_0_-1081267614.txt root@worker-1:/tmp/root/shuffle\n",
            "Warning: Permanently added 'worker-1,172.21.0.3' (ECDSA) to the list of known hosts.\n",
            "bash: warning: setlocale: LC_ALL: cannot change locale (en_US.UTF-8)\n",
            "worker-3\n",
            "ssh root@worker-3 if test ! -d /tmp/root/shuffle; then mkdir -p /tmp/root/shuffle; fi\n",
            "Warning: Permanently added 'worker-3,172.21.0.2' (ECDSA) to the list of known hosts.\n",
            "bash: warning: setlocale: LC_ALL: cannot change locale (en_US.UTF-8)\n",
            "job.jar\n",
            "maps\n",
            "shuffle\n",
            "splits\n",
            "scp -r /tmp/root/shuffle/3079406_2_-1081267614.txt root@worker-3:/tmp/root/shuffle\n",
            "Warning: Permanently added 'worker-3,172.21.0.2' (ECDSA) to the list of known hosts.\n",
            "bash: warning: setlocale: LC_ALL: cannot change locale (en_US.UTF-8)\n",
            "worker-2\n",
            "ssh root@worker-2 if test ! -d /tmp/root/shuffle; then mkdir -p /tmp/root/shuffle; fi\n",
            "Warning: Permanently added 'worker-2,172.21.0.4' (ECDSA) to the list of known hosts.\n",
            "bash: warning: setlocale: LC_ALL: cannot change locale (en_US.UTF-8)\n",
            "job.jar\n",
            "maps\n",
            "shuffle\n",
            "splits\n",
            "scp -r /tmp/root/shuffle/98260_1_-1081267614.txt root@worker-2:/tmp/root/shuffle\n",
            "Warning: Permanently added 'worker-2,172.21.0.4' (ECDSA) to the list of known hosts.\n",
            "bash: warning: setlocale: LC_ALL: cannot change locale (en_US.UTF-8)\n",
            "worker-1\n",
            "ssh root@worker-1 if test ! -d /tmp/root/shuffle; then mkdir -p /tmp/root/shuffle; fi\n",
            "Warning: Permanently added 'worker-1,172.21.0.3' (ECDSA) to the list of known hosts.\n",
            "bash: warning: setlocale: LC_ALL: cannot change locale (en_US.UTF-8)\n",
            "job.jar\n",
            "shuffle\n",
            "splits\n",
            "scp -r /tmp/root/shuffle/3019824_0_-1081267614.txt root@worker-1:/tmp/root/shuffle\n",
            "Warning: Permanently added 'worker-1,172.21.0.3' (ECDSA) to the list of known hosts.\n",
            "bash: warning: setlocale: LC_ALL: cannot change locale (en_US.UTF-8)\n",
            "worker-2\n",
            "ssh root@worker-2 if test ! -d /tmp/root/shuffle; then mkdir -p /tmp/root/shuffle; fi\n",
            "Warning: Permanently added 'worker-2,172.21.0.4' (ECDSA) to the list of known hosts.\n",
            "bash: warning: setlocale: LC_ALL: cannot change locale (en_US.UTF-8)\n",
            "job.jar\n",
            "maps\n",
            "shuffle\n",
            "splits\n",
            "scp -r /tmp/root/shuffle/98260_1_-1081267614.txt root@worker-2:/tmp/root/shuffle\n",
            "Warning: Permanently added 'worker-2,172.21.0.4' (ECDSA) to the list of known hosts.\n",
            "bash: warning: setlocale: LC_ALL: cannot change locale (en_US.UTF-8)\n",
            "worker-2\n",
            "ssh root@worker-2 if test ! -d /tmp/root/shuffle; then mkdir -p /tmp/root/shuffle; fi\n",
            "Warning: Permanently added 'worker-2,172.21.0.4' (ECDSA) to the list of known hosts.\n",
            "bash: warning: setlocale: LC_ALL: cannot change locale (en_US.UTF-8)\n",
            "job.jar\n",
            "maps\n",
            "shuffle\n",
            "splits\n",
            "scp -r /tmp/root/shuffle/98260_1_-1081267614.txt root@worker-2:/tmp/root/shuffle\n",
            "Warning: Permanently added 'worker-2,172.21.0.4' (ECDSA) to the list of known hosts.\n",
            "bash: warning: setlocale: LC_ALL: cannot change locale (en_US.UTF-8)\n",
            "worker-1\n",
            "ssh root@worker-1 if test ! -d /tmp/root/shuffle; then mkdir -p /tmp/root/shuffle; fi\n",
            "Warning: Permanently added 'worker-1,172.21.0.3' (ECDSA) to the list of known hosts.\n",
            "bash: warning: setlocale: LC_ALL: cannot change locale (en_US.UTF-8)\n",
            "job.jar\n",
            "shuffle\n",
            "splits\n",
            "scp -r /tmp/root/shuffle/108526092_0_-1081267614.txt root@worker-1:/tmp/root/shuffle\n",
            "Warning: Permanently added 'worker-1,172.21.0.3' (ECDSA) to the list of known hosts.\n",
            "bash: warning: setlocale: LC_ALL: cannot change locale (en_US.UTF-8)\n"
          ]
        }
      ],
      "source": [
        "String[] args = {\"1\"};\n",
        "\n",
        "Slave.main(args);"
      ]
    },
    {
      "cell_type": "markdown",
      "metadata": {
        "id": "FKTHo31Z0vKA"
      },
      "source": [
        "__4. A MASTER which launches and waits for the end of the shuffle phase.__\n",
        "\n",
        "Modify the MASTER so that it launches the shuffle phase once the map phase is finished, on several machines and displays “SHUFFLE FINISHED”. For this you will use the previously created file which contains the list of machines you want to use for your project.\n",
        "To properly synchronize the MASTER with the SLAVES, make sure to display “SHUFFLE FINISHED” only once all the SLAVEs have finished and only when all the SLAVEs have finished, NOT BEFORE! The MASTER must therefore wait for SLAVEs to terminate correctly.\n",
        "How do you make a process launched with ProcessBuilder in Java wait for the process to finish executing?\n",
        "Does your MASTER program launch the SLAVEs sequentially (one after the other) or in parallel?"
      ]
    },
    {
      "cell_type": "code",
      "execution_count": null,
      "metadata": {
        "id": "Hnxs0xl50vKA",
        "vscode": {
          "languageId": "java"
        }
      },
      "outputs": [],
      "source": [
        "import java.util.*;\n",
        "\n",
        "public class Master {\n",
        "    public static void main(String[] args) throws InterruptedException {\n",
        "        ArrayList<String> hostnames = Utils.read_file(args[0]);\n",
        "        Set<String> slaves = new HashSet<>();\n",
        "        List<String> files = Utils.list_directory(args[1]);\n",
        "        ArrayList<String> health_checks = new ArrayList<>();\n",
        "        ArrayList<String> create_dirs = new ArrayList<>();\n",
        "        ArrayList<String> check_dir = new ArrayList<>();\n",
        "        ArrayList<String> run_copy = new ArrayList<>();\n",
        "        ArrayList<String> run_map = new ArrayList<>();\n",
        "        ArrayList<String> run_shuffle = new ArrayList<>();\n",
        "        ArrayList<String> run_reduce = new ArrayList<>();\n",
        "        ArrayList<String> copy_hostnames_file = new ArrayList<>();\n",
        "        Random rand = new Random();\n",
        "\n",
        "        for (String file:files){\n",
        "            assert hostnames != null;\n",
        "            String slave = hostnames.get(rand.nextInt(hostnames.size()));\n",
        "            slaves.add(slave);\n",
        "            health_checks.add(\"ssh -o StrictHostKeyChecking=no root@\" + slave + \" hostname\");\n",
        "            create_dirs.add(\"ssh root@\" + slave + \" if test ! -d \" + args[2] + \"; then mkdir -p \" + args[2] + \"; fi\");\n",
        "            run_copy.add(\"scp -r \" + file + \" root@\" + slave + \":\" + args[2]);\n",
        "            check_dir.add(\"ssh root@\" + slave + \" ls \" + args[2]);\n",
        "            run_map.add(\"ssh root@\" + slave + \" java -jar /tmp/root/job.jar 0 \" + file);\n",
        "            copy_hostnames_file.add(\"scp \" + args[0] + \" root@\" + slave + \":/tmp/root\");\n",
        "\n",
        "        }\n",
        "        for (String slave:slaves)\n",
        "            run_shuffle.add(\"ssh root@\" + slave + \" java -jar /tmp/root/job.jar 1 \");\n",
        "\n",
        "        assert hostnames != null;\n",
        "        for (String slave:hostnames)\n",
        "            run_reduce.add(\"ssh root@\" + slave + \" java -jar /tmp/root/job.jar 2 \");\n",
        "\n",
        "        // Apply health checker\n",
        "        List<Boolean> returnValue = Utils.launch_actions_with_return(health_checks);\n",
        "\n",
        "        // Check all machine are alive and deploy jar\n",
        "        boolean isNodesOk = returnValue.stream().allMatch(x -> x);\n",
        "        if (isNodesOk) {\n",
        "            Utils.launch_actions_without_return(create_dirs);\n",
        "\n",
        "            // wait for directories creation and check the creation\n",
        "            Thread.sleep(3000);\n",
        "            returnValue = Utils.launch_actions_with_return(check_dir);\n",
        "\n",
        "            // if all directories are created, deploy jar file\n",
        "            if (returnValue.stream().allMatch(x -> x)) {\n",
        "                Utils.launch_actions_without_return(run_copy);\n",
        "            } else {\n",
        "                System.out.println(\"Something went wrong during the directories creation\");\n",
        "            }\n",
        "        } else {\n",
        "            System.out.println(\"Not all nodes are safe, please check connection\");\n",
        "        }\n",
        "\n",
        "        // Map\n",
        "        double start_map_time = System.currentTimeMillis();\n",
        "        Deploy.deploy(hostnames,\n",
        "                \"jar/job.jar\", \"/tmp/root/\");\n",
        "        Utils.launch_actions_without_return(run_map);\n",
        "        System.out.println(\"MAP FINISHED\");\n",
        "        double end_map_time = System.currentTimeMillis();\n",
        "        double total_map_time = end_map_time - start_map_time;\n",
        "        System.out.println(String.format(\"map time: %f\", total_map_time/1000));\n",
        "\n",
        "        // shuffle\n",
        "        double start_shuffle_time = System.currentTimeMillis();\n",
        "        Utils.launch_actions_without_return(copy_hostnames_file);\n",
        "        Utils.launch_actions_without_return(run_shuffle);\n",
        "        System.out.println(\"SHUFFLE FINISHED\");\n",
        "        double end_shuffle_time = System.currentTimeMillis();\n",
        "        double total_shuffle_time = end_shuffle_time - start_shuffle_time;\n",
        "        System.out.println(String.format(\"shuffle time: %f\", total_shuffle_time/1000));\n",
        "    }\n",
        "}"
      ]
    },
    {
      "cell_type": "code",
      "execution_count": null,
      "metadata": {
        "id": "4n2SOwM30vKA",
        "outputId": "2b699dcf-d313-4367-db32-7b4307618a77",
        "vscode": {
          "languageId": "java"
        }
      },
      "outputs": [
        {
          "name": "stdout",
          "output_type": "stream",
          "text": [
            "worker-1\n",
            "worker-1\n",
            "worker-2\n",
            "ssh root@worker-1 if test ! -d /tmp/root/splits; then mkdir -p /tmp/root/splits; fi\n",
            "ssh root@worker-1 if test ! -d /tmp/root/splits; then mkdir -p /tmp/root/splits; fi\n",
            "ssh root@worker-2 if test ! -d /tmp/root/splits; then mkdir -p /tmp/root/splits; fi\n",
            "Warning: Permanently added 'worker-1,172.21.0.3' (ECDSA) to the list of known hosts.\n",
            "bash: warning: setlocale: LC_ALL: cannot change locale (en_US.UTF-8)\n",
            "Warning: Permanently added 'worker-1,172.21.0.3' (ECDSA) to the list of known hosts.\n",
            "bash: warning: setlocale: LC_ALL: cannot change locale (en_US.UTF-8)\n",
            "Warning: Permanently added 'worker-2,172.21.0.4' (ECDSA) to the list of known hosts.\n",
            "bash: warning: setlocale: LC_ALL: cannot change locale (en_US.UTF-8)\n",
            "S0.txt\n",
            "S1.txt\n",
            "S0.txt\n",
            "S0.txt\n",
            "scp -r /tmp/root/splits/S0.txt root@worker-1:/tmp/root/splits\n",
            "scp -r /tmp/root/splits/S1.txt root@worker-1:/tmp/root/splits\n",
            "scp -r /tmp/root/splits/S2.txt root@worker-2:/tmp/root/splits\n",
            "Warning: Permanently added 'worker-1,172.21.0.3' (ECDSA) to the list of known hosts.\n",
            "bash: warning: setlocale: LC_ALL: cannot change locale (en_US.UTF-8)\n",
            "Warning: Permanently added 'worker-2,172.21.0.4' (ECDSA) to the list of known hosts.\n",
            "bash: warning: setlocale: LC_ALL: cannot change locale (en_US.UTF-8)\n",
            "Warning: Permanently added 'worker-1,172.21.0.3' (ECDSA) to the list of known hosts.\n",
            "bash: warning: setlocale: LC_ALL: cannot change locale (en_US.UTF-8)\n",
            "worker-1\n",
            "worker-2\n",
            "worker-3\n",
            "ssh root@worker-1 if test ! -d /tmp/root/; then mkdir -p /tmp/root/; fi\n",
            "ssh root@worker-2 if test ! -d /tmp/root/; then mkdir -p /tmp/root/; fi\n",
            "ssh root@worker-3 if test ! -d /tmp/root/; then mkdir -p /tmp/root/; fi\n",
            "Warning: Permanently added 'worker-1,172.21.0.3' (ECDSA) to the list of known hosts.\n",
            "bash: warning: setlocale: LC_ALL: cannot change locale (en_US.UTF-8)\n",
            "Warning: Permanently added 'worker-2,172.21.0.4' (ECDSA) to the list of known hosts.\n",
            "bash: warning: setlocale: LC_ALL: cannot change locale (en_US.UTF-8)\n",
            "Warning: Permanently added 'worker-3,172.21.0.2' (ECDSA) to the list of known hosts.\n",
            "bash: warning: setlocale: LC_ALL: cannot change locale (en_US.UTF-8)\n",
            "job.jar\n",
            "shuffle\n",
            "splits\n",
            "job.jar\n",
            "maps\n",
            "shuffle\n",
            "splits\n",
            "job.jar\n",
            "maps\n",
            "shuffle\n",
            "splits\n",
            "scp -r jar/job.jar root@worker-1:/tmp/root/\n",
            "scp -r jar/job.jar root@worker-2:/tmp/root/\n",
            "scp -r jar/job.jar root@worker-3:/tmp/root/\n",
            "Warning: Permanently added 'worker-2,172.21.0.4' (ECDSA) to the list of known hosts.\n",
            "bash: warning: setlocale: LC_ALL: cannot change locale (en_US.UTF-8)\n",
            "Warning: Permanently added 'worker-1,172.21.0.3' (ECDSA) to the list of known hosts.\n",
            "bash: warning: setlocale: LC_ALL: cannot change locale (en_US.UTF-8)\n",
            "Warning: Permanently added 'worker-3,172.21.0.2' (ECDSA) to the list of known hosts.\n",
            "bash: warning: setlocale: LC_ALL: cannot change locale (en_US.UTF-8)\n",
            "ssh root@worker-1 java -jar /tmp/root/job.jar 0 /tmp/root/splits/S0.txt\n",
            "ssh root@worker-1 java -jar /tmp/root/job.jar 0 /tmp/root/splits/S1.txt\n",
            "ssh root@worker-2 java -jar /tmp/root/job.jar 0 /tmp/root/splits/S2.txt\n",
            "Something goes wrong when creating maps folder\n",
            "Warning: Permanently added 'worker-2,172.21.0.4' (ECDSA) to the list of known hosts.\n",
            "bash: warning: setlocale: LC_ALL: cannot change locale (en_US.UTF-8)\n",
            "Warning: Permanently added 'worker-1,172.21.0.3' (ECDSA) to the list of known hosts.\n",
            "bash: warning: setlocale: LC_ALL: cannot change locale (en_US.UTF-8)\n",
            "MAP FINISHED\n",
            "map time: 4.099000\n",
            "scp data/hostnames.txt root@worker-1:/tmp/root\n",
            "scp data/hostnames.txt root@worker-1:/tmp/root\n",
            "scp data/hostnames.txt root@worker-2:/tmp/root\n",
            "Warning: Permanently added 'worker-2,172.21.0.4' (ECDSA) to the list of known hosts.\n",
            "bash: warning: setlocale: LC_ALL: cannot change locale (en_US.UTF-8)\n",
            "Warning: Permanently added 'worker-1,172.21.0.3' (ECDSA) to the list of known hosts.\n",
            "bash: warning: setlocale: LC_ALL: cannot change locale (en_US.UTF-8)\n",
            "Warning: Permanently added 'worker-1,172.21.0.3' (ECDSA) to the list of known hosts.\n",
            "bash: warning: setlocale: LC_ALL: cannot change locale (en_US.UTF-8)\n",
            "ssh root@worker-2 java -jar /tmp/root/job.jar 1 \n",
            "ssh root@worker-1 java -jar /tmp/root/job.jar 1 \n",
            "worker-2\n",
            "ssh root@worker-2 if test ! -d /tmp/root/shuffle; then mkdir -p /tmp/root/shuffle; fi\n",
            "bash: warning: setlocale: LC_ALL: cannot change locale (en_US.UTF-8)\n",
            "hostnames.txt\n",
            "job.jar\n",
            "maps\n",
            "shuffle\n",
            "splits\n",
            "scp -r /tmp/root/shuffle/98260_1_35352994.txt root@worker-2:/tmp/root/shuffle\n",
            "bash: warning: setlocale: LC_ALL: cannot change locale (en_US.UTF-8)\n",
            "worker-2\n",
            "ssh root@worker-2 if test ! -d /tmp/root/shuffle; then mkdir -p /tmp/root/shuffle; fi\n",
            "bash: warning: setlocale: LC_ALL: cannot change locale (en_US.UTF-8)\n",
            "worker-3\n",
            "ssh root@worker-3 if test ! -d /tmp/root/shuffle; then mkdir -p /tmp/root/shuffle; fi\n",
            "bash: warning: setlocale: LC_ALL: cannot change locale (en_US.UTF-8)\n",
            "job.jar\n",
            "maps\n",
            "shuffle\n",
            "splits\n",
            "scp -r /tmp/root/shuffle/3079406_2_35352995.txt root@worker-3:/tmp/root/shuffle\n",
            "bash: warning: setlocale: LC_ALL: cannot change locale (en_US.UTF-8)\n",
            "worker-1\n",
            "ssh root@worker-1 if test ! -d /tmp/root/shuffle; then mkdir -p /tmp/root/shuffle; fi\n",
            "bash: warning: setlocale: LC_ALL: cannot change locale (en_US.UTF-8)\n",
            "hostnames.txt\n",
            "job.jar\n",
            "maps\n",
            "shuffle\n",
            "splits\n",
            "scp -r /tmp/root/shuffle/98260_1_35352994.txt root@worker-2:/tmp/root/shuffle\n",
            "bash: warning: setlocale: LC_ALL: cannot change locale (en_US.UTF-8)\n",
            "hostnames.txt\n",
            "job.jar\n",
            "maps\n",
            "shuffle\n",
            "splits\n",
            "scp -r /tmp/root/shuffle/3019824_0_35352995.txt root@worker-1:/tmp/root/shuffle\n",
            "bash: warning: setlocale: LC_ALL: cannot change locale (en_US.UTF-8)\n",
            "worker-1\n",
            "ssh root@worker-1 if test ! -d /tmp/root/shuffle; then mkdir -p /tmp/root/shuffle; fi\n",
            "bash: warning: setlocale: LC_ALL: cannot change locale (en_US.UTF-8)\n",
            "hostnames.txt\n",
            "job.jar\n",
            "maps\n",
            "shuffle\n",
            "splits\n",
            "scp -r /tmp/root/shuffle/108526092_0_35352995.txt root@worker-1:/tmp/root/shuffle\n",
            "bash: warning: setlocale: LC_ALL: cannot change locale (en_US.UTF-8)\n",
            "worker-3\n",
            "ssh root@worker-3 if test ! -d /tmp/root/shuffle; then mkdir -p /tmp/root/shuffle; fi\n",
            "bash: warning: setlocale: LC_ALL: cannot change locale (en_US.UTF-8)\n",
            "job.jar\n",
            "maps\n",
            "shuffle\n",
            "splits\n",
            "scp -r /tmp/root/shuffle/3079406_2_35352995.txt root@worker-3:/tmp/root/shuffle\n",
            "bash: warning: setlocale: LC_ALL: cannot change locale (en_US.UTF-8)\n",
            "worker-1\n",
            "ssh root@worker-1 if test ! -d /tmp/root/shuffle; then mkdir -p /tmp/root/shuffle; fi\n",
            "bash: warning: setlocale: LC_ALL: cannot change locale (en_US.UTF-8)\n",
            "hostnames.txt\n",
            "job.jar\n",
            "maps\n",
            "shuffle\n",
            "splits\n",
            "scp -r /tmp/root/shuffle/3019824_0_35352995.txt root@worker-1:/tmp/root/shuffle\n",
            "bash: warning: setlocale: LC_ALL: cannot change locale (en_US.UTF-8)\n",
            "SHUFFLE FINISHED\n",
            "shuffle time: 19.055000\n"
          ]
        }
      ],
      "source": [
        "String[] args = {\"data/hostnames.txt\", \"/tmp/root/splits\", \"/tmp/root/splits\"};\n",
        "\n",
        "Master.main(args);"
      ]
    },
    {
      "cell_type": "markdown",
      "metadata": {
        "id": "1JvtB44N0vKA"
      },
      "source": [
        "The files are now present on the machines, in the `/tmp/root/shuffle` folder. You can check by connecting via the command line of the jupyter notebook:\n",
        "\n",
        "```sh\n",
        "ssh root@worker-[1-2-3]\n",
        "```"
      ]
    },
    {
      "cell_type": "markdown",
      "metadata": {
        "id": "cAi5W-8o0vKB"
      },
      "source": [
        "### <font color=\"red\">Step 12</font> : REDUCE."
      ]
    },
    {
      "cell_type": "markdown",
      "metadata": {
        "id": "jFN2tOdd0vKB"
      },
      "source": [
        "__1. The SLAVE that executes the reduce phase.\n",
        "\n",
        "Modify the SLAVE so that it prepares the reduce phase by grouping the files with the same hash, calculating the reduce for each of the keys and creating a file with the name <hash>.txt in the reduces folder. As before, the reduces folder must be created before you can write files to it.\n",
        "\n",
        "For this, your SLAVE takes an operating mode as an argument: 2 , which corresponds to the calculation of the reduce. Keep the previous modes: 0 for the map phase, 1 for the shuffle phase.\n",
        "\n",
        "Test how your SLAVE works with the files in the `shuffle` folder. For example, result should be similar to the following:\n",
        "\n",
        "`/tmp/root/shufflesreceived/67508-cxxx-12.txt` containing\n",
        "- Car 1\n",
        "- Car 1\n",
        "\n",
        "`/tmp/root/shufflesreceived/67508-cxxx-13.txt` containing\n",
        "- Car 1\n",
        "\n",
        "`/tmp/root/shufflesreceived/78973420-cxxx-12.txt` containing\n",
        "-River 1\n",
        "\n",
        "The reduces folder should contain the following files:\n",
        "\n",
        "`/tmp/root/reduces/67508.txt` containing\n",
        "- Car 3\n",
        "\n",
        "`/tmp/root/reduces/78973420.txt` containing\n",
        "-River 1"
      ]
    },
    {
      "cell_type": "markdown",
      "metadata": {
        "id": "QmaqNKKQ0vKB"
      },
      "source": [
        "Via the final version of the `Master` class below, I realize the reduce on the different nodes."
      ]
    },
    {
      "cell_type": "code",
      "execution_count": null,
      "metadata": {
        "id": "UxR1SYbl0vKB",
        "vscode": {
          "languageId": "java"
        }
      },
      "outputs": [],
      "source": [
        "import java.util.*;\n",
        "\n",
        "public class Master {\n",
        "    public static void main(String[] args) throws InterruptedException {\n",
        "        ArrayList<String> hostnames = Utils.read_file(args[0]);\n",
        "        Set<String> slaves = new HashSet<>();\n",
        "        List<String> files = Utils.list_directory(args[1]);\n",
        "        ArrayList<String> health_checks = new ArrayList<>();\n",
        "        ArrayList<String> create_dirs = new ArrayList<>();\n",
        "        ArrayList<String> check_dir = new ArrayList<>();\n",
        "        ArrayList<String> run_copy = new ArrayList<>();\n",
        "        ArrayList<String> run_map = new ArrayList<>();\n",
        "        ArrayList<String> run_shuffle = new ArrayList<>();\n",
        "        ArrayList<String> run_reduce = new ArrayList<>();\n",
        "        ArrayList<String> copy_hostnames_file = new ArrayList<>();\n",
        "        Random rand = new Random();\n",
        "\n",
        "        for (String file:files){\n",
        "            assert hostnames != null;\n",
        "            String slave = hostnames.get(rand.nextInt(hostnames.size()));\n",
        "            slaves.add(slave);\n",
        "            health_checks.add(\"ssh -o StrictHostKeyChecking=no root@\" + slave + \" hostname\");\n",
        "            create_dirs.add(\"ssh root@\" + slave + \" if test ! -d \" + args[2] + \"; then mkdir -p \" + args[2] + \"; fi\");\n",
        "            run_copy.add(\"scp -r \" + file + \" root@\" + slave + \":\" + args[2]);\n",
        "            check_dir.add(\"ssh root@\" + slave + \" ls \" + args[2]);\n",
        "            run_map.add(\"ssh root@\" + slave + \" java -jar /tmp/root/job.jar 0 \" + file);\n",
        "            copy_hostnames_file.add(\"scp \" + args[0] + \" root@\" + slave + \":/tmp/root\");\n",
        "\n",
        "        }\n",
        "        for (String slave:slaves)\n",
        "            run_shuffle.add(\"ssh root@\" + slave + \" java -jar /tmp/root/job.jar 1 \");\n",
        "\n",
        "        assert hostnames != null;\n",
        "        for (String slave:hostnames)\n",
        "            run_reduce.add(\"ssh root@\" + slave + \" java -jar /tmp/root/job.jar 2 \");\n",
        "\n",
        "        // Apply health checker\n",
        "        List<Boolean> returnValue = Utils.launch_actions_with_return(health_checks);\n",
        "\n",
        "        // Check all machine are alive and deploy jar\n",
        "        boolean isNodesOk = returnValue.stream().allMatch(x -> x);\n",
        "        if (isNodesOk) {\n",
        "            Utils.launch_actions_without_return(create_dirs);\n",
        "\n",
        "            // wait for directories creation and check the creation\n",
        "            Thread.sleep(3000);\n",
        "            returnValue = Utils.launch_actions_with_return(check_dir);\n",
        "\n",
        "            // if all directories are created, deploy jar file\n",
        "            if (returnValue.stream().allMatch(x -> x)) {\n",
        "                Utils.launch_actions_without_return(run_copy);\n",
        "            } else {\n",
        "                System.out.println(\"Something went wrong during the directories creation\");\n",
        "            }\n",
        "        } else {\n",
        "            System.out.println(\"Not all nodes are safe, please check connection\");\n",
        "        }\n",
        "\n",
        "        // Map\n",
        "        double start_map_time = System.currentTimeMillis();\n",
        "        Deploy.deploy(hostnames,\n",
        "                \"jar/job.jar\", \"/tmp/root/\");\n",
        "        Utils.launch_actions_without_return(run_map);\n",
        "        System.out.println(\"MAP FINISHED\");\n",
        "        double end_map_time = System.currentTimeMillis();\n",
        "        double total_map_time = end_map_time - start_map_time;\n",
        "        System.out.println(String.format(\"map time: %f\", total_map_time/1000));\n",
        "\n",
        "        // shuffle\n",
        "        double start_shuffle_time = System.currentTimeMillis();\n",
        "        Utils.launch_actions_without_return(copy_hostnames_file);\n",
        "        Utils.launch_actions_without_return(run_shuffle);\n",
        "        System.out.println(\"SHUFFLE FINISHED\");\n",
        "        double end_shuffle_time = System.currentTimeMillis();\n",
        "        double total_shuffle_time = end_shuffle_time - start_shuffle_time;\n",
        "        System.out.println(String.format(\"shuffle time: %f\", total_shuffle_time/1000));\n",
        "\n",
        "        // reduce\n",
        "        double start_reduce_time = System.currentTimeMillis();\n",
        "        Utils.launch_actions_without_return(run_reduce);\n",
        "        System.out.println(\"REDUCE FINISHED\");\n",
        "        double end_reduce_time = System.currentTimeMillis();\n",
        "        double total_reduce_time = end_reduce_time - start_reduce_time;\n",
        "        System.out.println(String.format(\"reduce time: %f\", total_reduce_time/1000));\n",
        "    }\n",
        "}"
      ]
    },
    {
      "cell_type": "code",
      "execution_count": null,
      "metadata": {
        "id": "f8G748-m0vKB",
        "outputId": "9093b93b-6f2e-4ffa-c279-4e6d9d587702",
        "vscode": {
          "languageId": "java"
        }
      },
      "outputs": [
        {
          "name": "stdout",
          "output_type": "stream",
          "text": [
            "worker-1\n",
            "worker-2\n",
            "worker-2\n",
            "ssh root@worker-1 if test ! -d /tmp/root/splits; then mkdir -p /tmp/root/splits; fi\n",
            "ssh root@worker-2 if test ! -d /tmp/root/splits; then mkdir -p /tmp/root/splits; fi\n",
            "ssh root@worker-2 if test ! -d /tmp/root/splits; then mkdir -p /tmp/root/splits; fi\n",
            "Warning: Permanently added 'worker-1,172.20.0.4' (ECDSA) to the list of known hosts.\n",
            "bash: warning: setlocale: LC_ALL: cannot change locale (en_US.UTF-8)\n",
            "Warning: Permanently added 'worker-2,172.20.0.3' (ECDSA) to the list of known hosts.\n",
            "bash: warning: setlocale: LC_ALL: cannot change locale (en_US.UTF-8)\n",
            "Warning: Permanently added 'worker-2,172.20.0.3' (ECDSA) to the list of known hosts.\n",
            "bash: warning: setlocale: LC_ALL: cannot change locale (en_US.UTF-8)\n",
            "Warning: Permanently added 'worker-1,172.20.0.4' (ECDSA) to the list of known hosts.\n",
            "bash: warning: setlocale: LC_ALL: cannot change locale (en_US.UTF-8)\n",
            "Warning: Permanently added 'worker-2,172.20.0.3' (ECDSA) to the list of known hosts.\n",
            "bash: warning: setlocale: LC_ALL: cannot change locale (en_US.UTF-8)\n",
            "Warning: Permanently added 'worker-2,172.20.0.3' (ECDSA) to the list of known hosts.\n",
            "bash: warning: setlocale: LC_ALL: cannot change locale (en_US.UTF-8)\n",
            "scp -r /tmp/root/splits/S0.txt root@worker-1:/tmp/root/splits\n",
            "scp -r /tmp/root/splits/S1.txt root@worker-2:/tmp/root/splits\n",
            "scp -r /tmp/root/splits/S2.txt root@worker-2:/tmp/root/splits\n",
            "Warning: Permanently added 'worker-2,172.20.0.3' (ECDSA) to the list of known hosts.\n",
            "bash: warning: setlocale: LC_ALL: cannot change locale (en_US.UTF-8)\n",
            "Warning: Permanently added 'worker-1,172.20.0.4' (ECDSA) to the list of known hosts.\n",
            "bash: warning: setlocale: LC_ALL: cannot change locale (en_US.UTF-8)\n",
            "Warning: Permanently added 'worker-2,172.20.0.3' (ECDSA) to the list of known hosts.\n",
            "bash: warning: setlocale: LC_ALL: cannot change locale (en_US.UTF-8)\n",
            "worker-2\n",
            "worker-1\n",
            "worker-3\n",
            "ssh root@worker-1 if test ! -d /tmp/root/; then mkdir -p /tmp/root/; fi\n",
            "ssh root@worker-2 if test ! -d /tmp/root/; then mkdir -p /tmp/root/; fi\n",
            "ssh root@worker-3 if test ! -d /tmp/root/; then mkdir -p /tmp/root/; fi\n",
            "Warning: Permanently added 'worker-3,172.20.0.2' (ECDSA) to the list of known hosts.\n",
            "bash: warning: setlocale: LC_ALL: cannot change locale (en_US.UTF-8)\n",
            "Warning: Permanently added 'worker-2,172.20.0.3' (ECDSA) to the list of known hosts.\n",
            "Warning: Permanently added 'worker-1,172.20.0.4' (ECDSA) to the list of known hosts.\n",
            "bash: warning: setlocale: LC_ALL: cannot change locale (en_US.UTF-8)\n",
            "bash: warning: setlocale: LC_ALL: cannot change locale (en_US.UTF-8)\n",
            "Warning: Permanently added 'worker-3,172.20.0.2' (ECDSA) to the list of known hosts.\n",
            "bash: warning: setlocale: LC_ALL: cannot change locale (en_US.UTF-8)\n",
            "splits\n",
            "splits\n",
            "scp -r jar/job.jar root@worker-1:/tmp/root/\n",
            "scp -r jar/job.jar root@worker-2:/tmp/root/\n",
            "scp -r jar/job.jar root@worker-3:/tmp/root/\n",
            "Warning: Permanently added 'worker-2,172.20.0.3' (ECDSA) to the list of known hosts.\n",
            "bash: warning: setlocale: LC_ALL: cannot change locale (en_US.UTF-8)\n",
            "Warning: Permanently added 'worker-1,172.20.0.4' (ECDSA) to the list of known hosts.\n",
            "bash: warning: setlocale: LC_ALL: cannot change locale (en_US.UTF-8)\n",
            "Warning: Permanently added 'worker-3,172.20.0.2' (ECDSA) to the list of known hosts.\n",
            "bash: warning: setlocale: LC_ALL: cannot change locale (en_US.UTF-8)\n",
            "ssh root@worker-1 java -jar /tmp/root/job.jar 0 /tmp/root/splits/S0.txt\n",
            "ssh root@worker-2 java -jar /tmp/root/job.jar 0 /tmp/root/splits/S1.txt\n",
            "ssh root@worker-2 java -jar /tmp/root/job.jar 0 /tmp/root/splits/S2.txt\n",
            "Warning: Permanently added 'worker-2,172.20.0.3' (ECDSA) to the list of known hosts.\n",
            "bash: warning: setlocale: LC_ALL: cannot change locale (en_US.UTF-8)\n",
            "Warning: Permanently added 'worker-1,172.20.0.4' (ECDSA) to the list of known hosts.\n",
            "bash: warning: setlocale: LC_ALL: cannot change locale (en_US.UTF-8)\n",
            "Warning: Permanently added 'worker-2,172.20.0.3' (ECDSA) to the list of known hosts.\n",
            "bash: warning: setlocale: LC_ALL: cannot change locale (en_US.UTF-8)\n",
            "MAP FINISHED\n",
            "map time: 3.988000\n",
            "scp data/hostnames.txt root@worker-1:/tmp/root\n",
            "scp data/hostnames.txt root@worker-2:/tmp/root\n",
            "scp data/hostnames.txt root@worker-2:/tmp/root\n",
            "Warning: Permanently added 'worker-1,172.20.0.4' (ECDSA) to the list of known hosts.\n",
            "bash: warning: setlocale: LC_ALL: cannot change locale (en_US.UTF-8)\n",
            "Warning: Permanently added 'worker-2,172.20.0.3' (ECDSA) to the list of known hosts.\n",
            "bash: warning: setlocale: LC_ALL: cannot change locale (en_US.UTF-8)\n",
            "Warning: Permanently added 'worker-2,172.20.0.3' (ECDSA) to the list of known hosts.\n",
            "bash: warning: setlocale: LC_ALL: cannot change locale (en_US.UTF-8)\n",
            "ssh root@worker-2 java -jar /tmp/root/job.jar 1 \n",
            "ssh root@worker-1 java -jar /tmp/root/job.jar 1 \n",
            "worker-3\n",
            "ssh root@worker-3 if test ! -d /tmp/root/shuffle; then mkdir -p /tmp/root/shuffle; fi\n",
            "bash: warning: setlocale: LC_ALL: cannot change locale (en_US.UTF-8)\n",
            "job.jar\n",
            "shuffle\n",
            "scp -r /tmp/root/shuffle/3079406_2_35352994.txt root@worker-3:/tmp/root/shuffle\n",
            "bash: warning: setlocale: LC_ALL: cannot change locale (en_US.UTF-8)\n",
            "worker-3\n",
            "ssh root@worker-3 if test ! -d /tmp/root/shuffle; then mkdir -p /tmp/root/shuffle; fi\n",
            "bash: warning: setlocale: LC_ALL: cannot change locale (en_US.UTF-8)\n",
            "job.jar\n",
            "shuffle\n",
            "scp -r /tmp/root/shuffle/3079406_2_35352995.txt root@worker-3:/tmp/root/shuffle\n",
            "bash: warning: setlocale: LC_ALL: cannot change locale (en_US.UTF-8)\n",
            "worker-1\n",
            "ssh root@worker-1 if test ! -d /tmp/root/shuffle; then mkdir -p /tmp/root/shuffle; fi\n",
            "bash: warning: setlocale: LC_ALL: cannot change locale (en_US.UTF-8)\n",
            "hostnames.txt\n",
            "job.jar\n",
            "maps\n",
            "shuffle\n",
            "splits\n",
            "scp -r /tmp/root/shuffle/3019824_0_35352995.txt root@worker-1:/tmp/root/shuffle\n",
            "bash: warning: setlocale: LC_ALL: cannot change locale (en_US.UTF-8)\n",
            "worker-1\n",
            "ssh root@worker-1 if test ! -d /tmp/root/shuffle; then mkdir -p /tmp/root/shuffle; fi\n",
            "bash: warning: setlocale: LC_ALL: cannot change locale (en_US.UTF-8)\n",
            "hostnames.txt\n",
            "job.jar\n",
            "maps\n",
            "shuffle\n",
            "splits\n",
            "scp -r /tmp/root/shuffle/108526092_0_35352995.txt root@worker-1:/tmp/root/shuffle\n",
            "bash: warning: setlocale: LC_ALL: cannot change locale (en_US.UTF-8)\n",
            "SHUFFLE FINISHED\n",
            "shuffle time: 11.685000\n",
            "ssh root@worker-1 java -jar /tmp/root/job.jar 2 \n",
            "ssh root@worker-2 java -jar /tmp/root/job.jar 2 \n",
            "ssh root@worker-3 java -jar /tmp/root/job.jar 2 \n",
            "Warning: Permanently added 'worker-3,172.20.0.2' (ECDSA) to the list of known hosts.\n",
            "bash: warning: setlocale: LC_ALL: cannot change locale (en_US.UTF-8)\n",
            "Warning: Permanently added 'worker-1,172.20.0.4' (ECDSA) to the list of known hosts.\n",
            "bash: warning: setlocale: LC_ALL: cannot change locale (en_US.UTF-8)\n",
            "Warning: Permanently added 'worker-2,172.20.0.3' (ECDSA) to the list of known hosts.\n",
            "bash: warning: setlocale: LC_ALL: cannot change locale (en_US.UTF-8)\n",
            "REDUCE FINISHED\n",
            "reduce time: 0.277000\n"
          ]
        }
      ],
      "source": [
        "String[] args = {\"data/hostnames.txt\", \"/tmp/root/splits\", \"/tmp/root/splits\"};\n",
        "\n",
        "Master.main(args);"
      ]
    },
    {
      "cell_type": "markdown",
      "metadata": {
        "id": "_Bzs8iq90vKB"
      },
      "source": [
        "Below is the calculation time for each step:\n",
        "\n",
        "- map: 3.988000 seconds\n",
        "- shuffle: 11.685000 seconds\n",
        "- reduce: 0.27700 seconds\n",
        "\n",
        "Of course, the shuffle part takes the most time. This is normal given all the network transfers necessary to send the keys to the correct nodes."
      ]
    },
    {
      "cell_type": "markdown",
      "metadata": {
        "id": "HqKW9NgU0vKB"
      },
      "source": [
        "__Enable python3 kernel__"
      ]
    },
    {
      "cell_type": "markdown",
      "metadata": {
        "id": "_2AIAw6I0vKB"
      },
      "source": [
        "The cell below displays the files present in the reduce folder of each worker. The expected result is therefore:\n",
        "\n",
        "- beer 2\n",
        "-river 2\n",
        "- because 3\n",
        "- deer 2"
      ]
    },
    {
      "cell_type": "code",
      "execution_count": null,
      "metadata": {
        "id": "7YbmWIBk0vKB",
        "outputId": "21f594c1-0c20-4781-c692-f47b622cd309",
        "vscode": {
          "languageId": "java"
        }
      },
      "outputs": [
        {
          "name": "stdout",
          "output_type": "stream",
          "text": [
            "worker-1\n",
            "Warning: Permanently added 'worker-1,172.20.0.4' (ECDSA) to the list of known hosts.\n",
            "bash: warning: setlocale: LC_ALL: cannot change locale (en_US.UTF-8)\n",
            "beer 2.0\n",
            "river 2.0\n",
            "worker-2\n",
            "Warning: Permanently added 'worker-2,172.20.0.3' (ECDSA) to the list of known hosts.\n",
            "bash: warning: setlocale: LC_ALL: cannot change locale (en_US.UTF-8)\n",
            "car 3.0\n",
            "worker-3\n",
            "Warning: Permanently added 'worker-3,172.20.0.2' (ECDSA) to the list of known hosts.\n",
            "bash: warning: setlocale: LC_ALL: cannot change locale (en_US.UTF-8)\n",
            "deer 2.0\n"
          ]
        }
      ],
      "source": [
        "!echo worker-1 && ssh root@worker-1 find /tmp/root/reduce -type f -exec cat {} +\n",
        "!echo worker-2 && ssh root@worker-2 find /tmp/root/reduce -type f -exec cat {} +\n",
        "!echo worker-3 && ssh root@worker-3 find /tmp/root/reduce -type f -exec cat {} +"
      ]
    }
  ],
  "metadata": {
    "colab": {
      "provenance": []
    },
    "kernelspec": {
      "display_name": "Java",
      "language": "java",
      "name": "java"
    },
    "language_info": {
      "codemirror_mode": "java",
      "file_extension": ".jshell",
      "mimetype": "text/x-java-source",
      "name": "Java",
      "pygments_lexer": "java",
      "version": "11.0.4+11-post-Ubuntu-1ubuntu218.04.3"
    }
  },
  "nbformat": 4,
  "nbformat_minor": 0
}
